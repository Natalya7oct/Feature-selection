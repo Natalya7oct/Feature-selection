{
  "nbformat": 4,
  "nbformat_minor": 0,
  "metadata": {
    "colab": {
      "name": "HW_MDS_07.ipynb",
      "provenance": [],
      "include_colab_link": true
    },
    "kernelspec": {
      "name": "python3",
      "display_name": "Python 3"
    }
  },
  "cells": [
    {
      "cell_type": "markdown",
      "metadata": {
        "id": "view-in-github",
        "colab_type": "text"
      },
      "source": [
        "<a href=\"https://colab.research.google.com/github/Natalya7oct/Feature-selection/blob/master/HW_MDS_07.ipynb\" target=\"_parent\"><img src=\"https://colab.research.google.com/assets/colab-badge.svg\" alt=\"Open In Colab\"/></a>"
      ]
    },
    {
      "cell_type": "code",
      "metadata": {
        "id": "-sI3AQB7BPTH",
        "colab_type": "code",
        "colab": {}
      },
      "source": [
        "import matplotlib.pyplot as plt\n",
        "import numpy as np\n",
        "import random\n",
        "import seaborn\n",
        "\n",
        "from numpy.random import choice\n",
        "from scipy.stats import *\n",
        "import statistics\n",
        "\n",
        "%matplotlib inline"
      ],
      "execution_count": 0,
      "outputs": []
    },
    {
      "cell_type": "markdown",
      "metadata": {
        "id": "tsmAkotnEdBB",
        "colab_type": "text"
      },
      "source": [
        "Задание 1\n",
        "Монетку подбрасывают 15 раз, найдите вероятность выпадения простого числа (решение на бумажке и на python)."
      ]
    },
    {
      "cell_type": "code",
      "metadata": {
        "id": "H7dkd8FOGE1y",
        "colab_type": "code",
        "colab": {}
      },
      "source": [
        "def IsPrime(n):\n",
        "   d = 2\n",
        "   while d * d <= n and n % d != 0:\n",
        "       d += 1\n",
        "   return d * d > n"
      ],
      "execution_count": 0,
      "outputs": []
    },
    {
      "cell_type": "code",
      "metadata": {
        "id": "YmU5CxD1FLzA",
        "colab_type": "code",
        "colab": {}
      },
      "source": [
        "def prime_numbers(n):\n",
        "   for i in range(1,n):\n",
        "     if IsPrime(i):\n",
        "       list_prime_numbers.append(i)\n",
        "   return list_prime_numbers"
      ],
      "execution_count": 0,
      "outputs": []
    },
    {
      "cell_type": "code",
      "metadata": {
        "id": "LxcpiaTnEd5X",
        "colab_type": "code",
        "colab": {
          "base_uri": "https://localhost:8080/",
          "height": 51
        },
        "outputId": "00c3fbb1-1ab6-420b-e147-468d2c063296"
      },
      "source": [
        "list_prime_numbers=[]\n",
        "n=15\n",
        "m=len(prime_numbers(n))\n",
        "print(m/n)"
      ],
      "execution_count": 28,
      "outputs": [
        {
          "output_type": "stream",
          "text": [
            "[1, 2, 3, 5, 7, 11, 13, 1, 2, 3, 5, 7, 11, 13]\n",
            "0.4666666666666667\n"
          ],
          "name": "stdout"
        }
      ]
    },
    {
      "cell_type": "markdown",
      "metadata": {
        "id": "P8EmbrejH89L",
        "colab_type": "text"
      },
      "source": [
        "\n",
        "Задание 2\n",
        "Создайте свою дискретную случайную величину с не менее, чем 10 значениями. Просемплируйте 1000 случайных значений, постройте гистограмму плотности распределения по выборке, посчитайте среднее, дисперсию и медиану."
      ]
    },
    {
      "cell_type": "code",
      "metadata": {
        "id": "SncYxOMNH9vS",
        "colab_type": "code",
        "colab": {}
      },
      "source": [
        "elements = range(10)\n",
        "probabilities = [0.03,0.04,0.05,0.06,0.07,0.08,0.09,0.15,0.21,0.22]\n",
        "data=np.random.choice(elements, 10000, p=probabilities)"
      ],
      "execution_count": 0,
      "outputs": []
    },
    {
      "cell_type": "code",
      "metadata": {
        "id": "yzSMJJbJJaA8",
        "colab_type": "code",
        "colab": {
          "base_uri": "https://localhost:8080/",
          "height": 265
        },
        "outputId": "66880b00-7915-4d8b-b588-7324490a4784"
      },
      "source": [
        "plt.hist(data, 10, density=True,color='Green')\n",
        "plt.show()"
      ],
      "execution_count": 37,
      "outputs": [
        {
          "output_type": "display_data",
          "data": {
            "image/png": "[encoded data removed]",
            "text/plain": [
              "<Figure size 432x288 with 1 Axes>"
            ]
          },
          "metadata": {
            "tags": []
          }
        }
      ]
    },
    {
      "cell_type": "code",
      "metadata": {
        "id": "j4lnEaPOLCxc",
        "colab_type": "code",
        "colab": {
          "base_uri": "https://localhost:8080/",
          "height": 34
        },
        "outputId": "39b92e9f-b1fe-4e24-e157-9858ac5a090e"
      },
      "source": [
        "print(statistics.mean(data),'- среднее;',\n",
        "statistics.median(data),'- медиана;',\n",
        "statistics.pvariance(data),'- дисперсия')"
      ],
      "execution_count": 45,
      "outputs": [
        {
          "output_type": "stream",
          "text": [
            "6 - среднее; 7.0 - медиана; 6 - дисперсия\n"
          ],
          "name": "stdout"
        }
      ]
    },
    {
      "cell_type": "code",
      "metadata": {
        "id": "vy45JkpUOTVh",
        "colab_type": "code",
        "colab": {}
      },
      "source": [
        ""
      ],
      "execution_count": 0,
      "outputs": []
    }
  ]
}