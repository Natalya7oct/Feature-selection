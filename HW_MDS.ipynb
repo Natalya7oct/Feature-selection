{
  "nbformat": 4,
  "nbformat_minor": 0,
  "metadata": {
    "colab": {
      "name": "Untitled0.ipynb",
      "provenance": [],
      "include_colab_link": true
    },
    "kernelspec": {
      "name": "python3",
      "display_name": "Python 3"
    }
  },
  "cells": [
    {
      "cell_type": "markdown",
      "metadata": {
        "id": "view-in-github",
        "colab_type": "text"
      },
      "source": [
        "<a href=\"https://colab.research.google.com/github/Natalya7oct/Feature-selection/blob/master/HW_MDS.ipynb\" target=\"_parent\"><img src=\"https://colab.research.google.com/assets/colab-badge.svg\" alt=\"Open In Colab\"/></a>"
      ]
    },
    {
      "cell_type": "markdown",
      "metadata": {
        "id": "MOYTg38gRLyC",
        "colab_type": "text"
      },
      "source": [
        "Математика для Data Science.\n",
        "Домашнее задание №1."
      ]
    },
    {
      "cell_type": "code",
      "metadata": {
        "id": "RaEn3mSORN7m",
        "colab_type": "code",
        "colab": {
          "base_uri": "https://localhost:8080/",
          "height": 34
        },
        "outputId": "a35cf162-c1e7-4ada-8158-84d52fa7181d"
      },
      "source": [
        "from sklearn.datasets import load_boston\n",
        "import pandas as pd\n",
        "boston = load_boston()\n",
        "print(boston.data.shape)"
      ],
      "execution_count": 35,
      "outputs": [
        {
          "output_type": "stream",
          "text": [
            "(506, 13)\n"
          ],
          "name": "stdout"
        }
      ]
    },
    {
      "cell_type": "code",
      "metadata": {
        "id": "4IvQRHeVp5e0",
        "colab_type": "code",
        "colab": {
          "base_uri": "https://localhost:8080/",
          "height": 204
        },
        "outputId": "9ef74d67-0ce4-43d1-f7bc-065f21656c2d"
      },
      "source": [
        "df = pd.DataFrame(boston.data, columns=boston.feature_names)\n",
        "df.head()"
      ],
      "execution_count": 37,
      "outputs": [
        {
          "output_type": "execute_result",
          "data": {
            "text/html": [
              "<div>\n",
              "<style scoped>\n",
              "    .dataframe tbody tr th:only-of-type {\n",
              "        vertical-align: middle;\n",
              "    }\n",
              "\n",
              "    .dataframe tbody tr th {\n",
              "        vertical-align: top;\n",
              "    }\n",
              "\n",
              "    .dataframe thead th {\n",
              "        text-align: right;\n",
              "    }\n",
              "</style>\n",
              "<table border=\"1\" class=\"dataframe\">\n",
              "  <thead>\n",
              "    <tr style=\"text-align: right;\">\n",
              "      <th></th>\n",
              "      <th>CRIM</th>\n",
              "      <th>ZN</th>\n",
              "      <th>INDUS</th>\n",
              "      <th>CHAS</th>\n",
              "      <th>NOX</th>\n",
              "      <th>RM</th>\n",
              "      <th>AGE</th>\n",
              "      <th>DIS</th>\n",
              "      <th>RAD</th>\n",
              "      <th>TAX</th>\n",
              "      <th>PTRATIO</th>\n",
              "      <th>B</th>\n",
              "      <th>LSTAT</th>\n",
              "    </tr>\n",
              "  </thead>\n",
              "  <tbody>\n",
              "    <tr>\n",
              "      <th>0</th>\n",
              "      <td>0.00632</td>\n",
              "      <td>18.0</td>\n",
              "      <td>2.31</td>\n",
              "      <td>0.0</td>\n",
              "      <td>0.538</td>\n",
              "      <td>6.575</td>\n",
              "      <td>65.2</td>\n",
              "      <td>4.0900</td>\n",
              "      <td>1.0</td>\n",
              "      <td>296.0</td>\n",
              "      <td>15.3</td>\n",
              "      <td>396.90</td>\n",
              "      <td>4.98</td>\n",
              "    </tr>\n",
              "    <tr>\n",
              "      <th>1</th>\n",
              "      <td>0.02731</td>\n",
              "      <td>0.0</td>\n",
              "      <td>7.07</td>\n",
              "      <td>0.0</td>\n",
              "      <td>0.469</td>\n",
              "      <td>6.421</td>\n",
              "      <td>78.9</td>\n",
              "      <td>4.9671</td>\n",
              "      <td>2.0</td>\n",
              "      <td>242.0</td>\n",
              "      <td>17.8</td>\n",
              "      <td>396.90</td>\n",
              "      <td>9.14</td>\n",
              "    </tr>\n",
              "    <tr>\n",
              "      <th>2</th>\n",
              "      <td>0.02729</td>\n",
              "      <td>0.0</td>\n",
              "      <td>7.07</td>\n",
              "      <td>0.0</td>\n",
              "      <td>0.469</td>\n",
              "      <td>7.185</td>\n",
              "      <td>61.1</td>\n",
              "      <td>4.9671</td>\n",
              "      <td>2.0</td>\n",
              "      <td>242.0</td>\n",
              "      <td>17.8</td>\n",
              "      <td>392.83</td>\n",
              "      <td>4.03</td>\n",
              "    </tr>\n",
              "    <tr>\n",
              "      <th>3</th>\n",
              "      <td>0.03237</td>\n",
              "      <td>0.0</td>\n",
              "      <td>2.18</td>\n",
              "      <td>0.0</td>\n",
              "      <td>0.458</td>\n",
              "      <td>6.998</td>\n",
              "      <td>45.8</td>\n",
              "      <td>6.0622</td>\n",
              "      <td>3.0</td>\n",
              "      <td>222.0</td>\n",
              "      <td>18.7</td>\n",
              "      <td>394.63</td>\n",
              "      <td>2.94</td>\n",
              "    </tr>\n",
              "    <tr>\n",
              "      <th>4</th>\n",
              "      <td>0.06905</td>\n",
              "      <td>0.0</td>\n",
              "      <td>2.18</td>\n",
              "      <td>0.0</td>\n",
              "      <td>0.458</td>\n",
              "      <td>7.147</td>\n",
              "      <td>54.2</td>\n",
              "      <td>6.0622</td>\n",
              "      <td>3.0</td>\n",
              "      <td>222.0</td>\n",
              "      <td>18.7</td>\n",
              "      <td>396.90</td>\n",
              "      <td>5.33</td>\n",
              "    </tr>\n",
              "  </tbody>\n",
              "</table>\n",
              "</div>"
            ],
            "text/plain": [
              "      CRIM    ZN  INDUS  CHAS    NOX  ...  RAD    TAX  PTRATIO       B  LSTAT\n",
              "0  0.00632  18.0   2.31   0.0  0.538  ...  1.0  296.0     15.3  396.90   4.98\n",
              "1  0.02731   0.0   7.07   0.0  0.469  ...  2.0  242.0     17.8  396.90   9.14\n",
              "2  0.02729   0.0   7.07   0.0  0.469  ...  2.0  242.0     17.8  392.83   4.03\n",
              "3  0.03237   0.0   2.18   0.0  0.458  ...  3.0  222.0     18.7  394.63   2.94\n",
              "4  0.06905   0.0   2.18   0.0  0.458  ...  3.0  222.0     18.7  396.90   5.33\n",
              "\n",
              "[5 rows x 13 columns]"
            ]
          },
          "metadata": {
            "tags": []
          },
          "execution_count": 37
        }
      ]
    },
    {
      "cell_type": "code",
      "metadata": {
        "id": "3sTjhi0QRUgq",
        "colab_type": "code",
        "colab": {}
      },
      "source": [
        "x1 = df.iloc[0] # дом 1\n",
        "x2 = df.iloc[1] # дом 2"
      ],
      "execution_count": 0,
      "outputs": []
    },
    {
      "cell_type": "code",
      "metadata": {
        "id": "zlgtepi3Rjrw",
        "colab_type": "code",
        "colab": {
          "base_uri": "https://localhost:8080/",
          "height": 34
        },
        "outputId": "8835ab2b-bac7-411a-8979-8f3fb0448bff"
      },
      "source": [
        "scalar=0\n",
        "for i in range(len(x1)):\n",
        "  scalar=scalar+(x1[i]*x2[i])\n",
        "print(scalar)"
      ],
      "execution_count": 44,
      "outputs": [
        {
          "output_type": "stream",
          "text": [
            "234704.86490859918\n"
          ],
          "name": "stdout"
        }
      ]
    },
    {
      "cell_type": "code",
      "metadata": {
        "id": "1iFSCv18Sidh",
        "colab_type": "code",
        "colab": {}
      },
      "source": [
        " df_new=df[['CRIM','INDUS']]"
      ],
      "execution_count": 0,
      "outputs": []
    },
    {
      "cell_type": "code",
      "metadata": {
        "id": "NwzjPqJMS1N5",
        "colab_type": "code",
        "colab": {}
      },
      "source": [
        "x3=df_new.iloc[0]\n",
        "x4=df_new.iloc[1]"
      ],
      "execution_count": 0,
      "outputs": []
    },
    {
      "cell_type": "code",
      "metadata": {
        "id": "PJaka2wUS1ny",
        "colab_type": "code",
        "colab": {
          "base_uri": "https://localhost:8080/",
          "height": 34
        },
        "outputId": "8b6a9c2a-71a6-42dd-f5ec-60b28881ea91"
      },
      "source": [
        "scalar_new=0\n",
        "for i in range(len(x3)):\n",
        "  scalar_new=scalar_new+(x3[i]*x4[i])\n",
        "print(scalar_new)"
      ],
      "execution_count": 47,
      "outputs": [
        {
          "output_type": "stream",
          "text": [
            "16.3318725992\n"
          ],
          "name": "stdout"
        }
      ]
    },
    {
      "cell_type": "code",
      "metadata": {
        "id": "8FsqLdOOt1lw",
        "colab_type": "code",
        "colab": {}
      },
      "source": [
        "import matplotlib.pyplot as plt\n",
        "import numpy as np"
      ],
      "execution_count": 0,
      "outputs": []
    },
    {
      "cell_type": "code",
      "metadata": {
        "id": "h4EKhPjESeHK",
        "colab_type": "code",
        "colab": {
          "base_uri": "https://localhost:8080/",
          "height": 606
        },
        "outputId": "bde83f51-4c9a-47af-dbc1-8a7689393037"
      },
      "source": [
        "fig = plt.figure(figsize=(10, 10))\n",
        "ax = fig.gca()\n",
        "\n",
        "x = np.array(df[['CRIM']])\n",
        "y = np.array(df[['INDUS']])\n",
        "\n",
        "ax.plot([0,x[0]], [0,y[0]])\n",
        "ax.plot([0,x[1]], [0,y[1]])\n",
        "\n",
        "ax.scatter(x[0], y[0], c='b', marker='o')\n",
        "ax.scatter(x[1], y[1], c='r', marker='o')\n",
        "\n",
        "ax.set_xlabel('CRIM')\n",
        "ax.set_ylabel('INDUS')\n",
        "\n",
        "plt.show()"
      ],
      "execution_count": 54,
      "outputs": [
        {
          "output_type": "display_data",
          "data": {
            "image/png": "[encoded data removed]",
            "text/plain": [
              "<Figure size 720x720 with 1 Axes>"
            ]
          },
          "metadata": {
            "tags": []
          }
        }
      ]
    },
    {
      "cell_type": "markdown",
      "metadata": {
        "id": "hIdgpJOcuML6",
        "colab_type": "text"
      },
      "source": [
        "Судя по графику, векторы довольно близки по углу, но сильно отличаются по размеру.\n",
        "Скалярное произведение между ними - 16.3. Не пойму, как определить, много это или мало?"
      ]
    },
    {
      "cell_type": "code",
      "metadata": {
        "id": "3NJe1Yeju0U6",
        "colab_type": "code",
        "colab": {}
      },
      "source": [
        " df_super_new=df[['CRIM','INDUS','NOX']]"
      ],
      "execution_count": 0,
      "outputs": []
    },
    {
      "cell_type": "code",
      "metadata": {
        "id": "rAHUrmhJwHBA",
        "colab_type": "code",
        "colab": {}
      },
      "source": [
        "from mpl_toolkits.mplot3d import Axes3D"
      ],
      "execution_count": 0,
      "outputs": []
    },
    {
      "cell_type": "code",
      "metadata": {
        "id": "p4OrGaWcvOJy",
        "colab_type": "code",
        "colab": {
          "base_uri": "https://localhost:8080/",
          "height": 575
        },
        "outputId": "ef9c1735-ffb8-4ee4-edf5-b23dc826c9f3"
      },
      "source": [
        "fig = plt.figure(figsize=(10, 10))\n",
        "ax = fig.gca(projection='3d')\n",
        "\n",
        "x = np.array(df_super_new['CRIM'])\n",
        "y = np.array(df_super_new['INDUS'])\n",
        "z = np.array(df_super_new['NOX'])\n",
        "\n",
        "ax.plot([0,x[0]], [0,y[0]], [0,z[0]])\n",
        "ax.plot([0,x[1]], [0,y[1]], [0,z[1]])\n",
        "\n",
        "ax.scatter(x[0], y[0], z[0], c='b', marker='o')\n",
        "ax.scatter(x[1], y[1], z[1], c='r', marker='o')\n",
        "\n",
        "ax.set_xlabel('CRIM')\n",
        "ax.set_ylabel('INDUS')\n",
        "ax.set_zlabel('NOX')\n",
        "\n",
        "plt.show()"
      ],
      "execution_count": 59,
      "outputs": [
        {
          "output_type": "display_data",
          "data": {
            "image/png": "[encoded data removed]",
            "text/plain": [
              "<Figure size 720x720 with 1 Axes>"
            ]
          },
          "metadata": {
            "tags": []
          }
        }
      ]
    },
    {
      "cell_type": "code",
      "metadata": {
        "id": "PbTkgoobzxGd",
        "colab_type": "code",
        "colab": {}
      },
      "source": [
        "import math"
      ],
      "execution_count": 0,
      "outputs": []
    },
    {
      "cell_type": "code",
      "metadata": {
        "id": "egD4gsKTyjIJ",
        "colab_type": "code",
        "colab": {}
      },
      "source": [
        "def len_x(x):\n",
        "  return math.sqrt(x[0]*x[0]+x[1]*x[1])\n"
      ],
      "execution_count": 0,
      "outputs": []
    },
    {
      "cell_type": "code",
      "metadata": {
        "id": "DkUuh49YyULh",
        "colab_type": "code",
        "colab": {}
      },
      "source": [
        "cos_x3_x4=scalar_new/(len_x(x3)*len_x(x4))"
      ],
      "execution_count": 0,
      "outputs": []
    },
    {
      "cell_type": "code",
      "metadata": {
        "id": "Nz2u7Qh3z-Ts",
        "colab_type": "code",
        "colab": {
          "base_uri": "https://localhost:8080/",
          "height": 34
        },
        "outputId": "0a14e31a-32fa-4fe0-8bac-2b0916861f52"
      },
      "source": [
        "cos_x3_x4"
      ],
      "execution_count": 68,
      "outputs": [
        {
          "output_type": "execute_result",
          "data": {
            "text/plain": [
              "0.9999993650962177"
            ]
          },
          "metadata": {
            "tags": []
          },
          "execution_count": 68
        }
      ]
    },
    {
      "cell_type": "code",
      "metadata": {
        "id": "NoQgUbYO1jiG",
        "colab_type": "code",
        "colab": {}
      },
      "source": [
        "dist_x3_x4=len_x(x4-x3)"
      ],
      "execution_count": 0,
      "outputs": []
    },
    {
      "cell_type": "code",
      "metadata": {
        "id": "OnT9LT_418Lg",
        "colab_type": "code",
        "colab": {
          "base_uri": "https://localhost:8080/",
          "height": 34
        },
        "outputId": "c16232eb-5672-4b8e-8738-287f5c5b584e"
      },
      "source": [
        "dist_x3_x4"
      ],
      "execution_count": 74,
      "outputs": [
        {
          "output_type": "execute_result",
          "data": {
            "text/plain": [
              "4.760046279197294"
            ]
          },
          "metadata": {
            "tags": []
          },
          "execution_count": 74
        }
      ]
    },
    {
      "cell_type": "markdown",
      "metadata": {
        "id": "BRxSG3wm2Hri",
        "colab_type": "text"
      },
      "source": [
        "Задание повышенного уровня."
      ]
    },
    {
      "cell_type": "code",
      "metadata": {
        "id": "JBjd4TsM2JNj",
        "colab_type": "code",
        "colab": {
          "base_uri": "https://localhost:8080/",
          "height": 286
        },
        "outputId": "9643f519-70a0-4def-be9a-b97eb9594e82"
      },
      "source": [
        "A = [\n",
        "    [-100, -100, 1],\n",
        "    [-100, 100, 1],\n",
        "    [100, 100, 1],\n",
        "    [0, 0, 1],\n",
        "    [100, -100, 1],\n",
        "    [-100, -100, 1]\n",
        "    ]\n",
        "A = np.array(A)\n",
        "x = A[:,0]\n",
        "y = A[:,1]\n",
        "plt.plot(x, y)\n",
        "plt.ylim([-200, 200])\n",
        "plt.xlim([-200, 200])"
      ],
      "execution_count": 75,
      "outputs": [
        {
          "output_type": "execute_result",
          "data": {
            "text/plain": [
              "(-200, 200)"
            ]
          },
          "metadata": {
            "tags": []
          },
          "execution_count": 75
        },
        {
          "output_type": "display_data",
          "data": {
            "image/png": "[encoded data removed]",
            "text/plain": [
              "<Figure size 432x288 with 1 Axes>"
            ]
          },
          "metadata": {
            "tags": []
          }
        }
      ]
    },
    {
      "cell_type": "markdown",
      "metadata": {
        "id": "0nwlXxvA2bWJ",
        "colab_type": "text"
      },
      "source": [
        "Изменить положение объекта (сместить по оси x на 300 пикселей, по оси y на 200 пикселей)"
      ]
    },
    {
      "cell_type": "code",
      "metadata": {
        "id": "1yHlpl3M2PCB",
        "colab_type": "code",
        "colab": {}
      },
      "source": [
        "# матрица смещения\n",
        "S = [\n",
        "    [1, 0, 300],\n",
        "    [0, 1, 200],\n",
        "    [0, 0, 1],\n",
        "    ]"
      ],
      "execution_count": 0,
      "outputs": []
    },
    {
      "cell_type": "code",
      "metadata": {
        "id": "F65GmGTv45IA",
        "colab_type": "code",
        "colab": {
          "base_uri": "https://localhost:8080/",
          "height": 34
        },
        "outputId": "344c91e8-d9ed-40b6-df83-84d43bde4d0c"
      },
      "source": [
        "A1 = []\n",
        "for point in A:\n",
        "  new_point=np.dot(S,np.transpose(point))\n",
        "  A1.append(new_point)\n",
        "print(A1)"
      ],
      "execution_count": 77,
      "outputs": [
        {
          "output_type": "stream",
          "text": [
            "[array([200, 100,   1]), array([200, 300,   1]), array([400, 300,   1]), array([300, 200,   1]), array([400, 100,   1]), array([200, 100,   1])]\n"
          ],
          "name": "stdout"
        }
      ]
    },
    {
      "cell_type": "code",
      "metadata": {
        "id": "-CuRn21i6Hlz",
        "colab_type": "code",
        "colab": {
          "base_uri": "https://localhost:8080/",
          "height": 282
        },
        "outputId": "f43cca8d-3fa6-4593-e331-25bf81f6fc5c"
      },
      "source": [
        "A1 = np.array(A1)\n",
        "x = A1[:,0]\n",
        "y = A1[:,1]\n",
        "plt.plot(x, y)\n",
        "plt.ylim([-500, 500])\n",
        "plt.xlim([-500, 500])"
      ],
      "execution_count": 80,
      "outputs": [
        {
          "output_type": "execute_result",
          "data": {
            "text/plain": [
              "(-500, 500)"
            ]
          },
          "metadata": {
            "tags": []
          },
          "execution_count": 80
        },
        {
          "output_type": "display_data",
          "data": {
            "image/png": "[encoded data removed]",
            "text/plain": [
              "<Figure size 432x288 with 1 Axes>"
            ]
          },
          "metadata": {
            "tags": []
          }
        }
      ]
    },
    {
      "cell_type": "markdown",
      "metadata": {
        "id": "Sh6SVXLm6mkE",
        "colab_type": "text"
      },
      "source": [
        "Уменьшить объект в два раза."
      ]
    },
    {
      "cell_type": "code",
      "metadata": {
        "id": "UTfINab96lA6",
        "colab_type": "code",
        "colab": {}
      },
      "source": [
        "# матрица масштабирования\n",
        "S1 = [\n",
        "    [0.5, 0, 0],\n",
        "    [0, 0.5, 0],\n",
        "    [0, 0, 1],\n",
        "    ]"
      ],
      "execution_count": 0,
      "outputs": []
    },
    {
      "cell_type": "code",
      "metadata": {
        "id": "ooLQUNyi6-Sr",
        "colab_type": "code",
        "colab": {
          "base_uri": "https://localhost:8080/",
          "height": 34
        },
        "outputId": "421b8cb7-6413-4106-b05a-02d946c9ea97"
      },
      "source": [
        "A2 = []\n",
        "for point in A:\n",
        "  new_point=np.dot(S1,np.transpose(point))\n",
        "  A2.append(new_point)\n",
        "print(A2)"
      ],
      "execution_count": 85,
      "outputs": [
        {
          "output_type": "stream",
          "text": [
            "[array([-50., -50.,   1.]), array([-50.,  50.,   1.]), array([50., 50.,  1.]), array([0., 0., 1.]), array([ 50., -50.,   1.]), array([-50., -50.,   1.])]\n"
          ],
          "name": "stdout"
        }
      ]
    },
    {
      "cell_type": "code",
      "metadata": {
        "id": "HznZ8Yzp7CDo",
        "colab_type": "code",
        "colab": {
          "base_uri": "https://localhost:8080/",
          "height": 286
        },
        "outputId": "390e1540-7207-4a20-fd72-9e446db3a646"
      },
      "source": [
        "A2 = np.array(A2)\n",
        "x = A2[:,0]\n",
        "y = A2[:,1]\n",
        "plt.plot(x, y)\n",
        "plt.ylim([-200, 200])\n",
        "plt.xlim([-200, 200])"
      ],
      "execution_count": 87,
      "outputs": [
        {
          "output_type": "execute_result",
          "data": {
            "text/plain": [
              "(-200, 200)"
            ]
          },
          "metadata": {
            "tags": []
          },
          "execution_count": 87
        },
        {
          "output_type": "display_data",
          "data": {
            "image/png": "[encoded data removed]",
            "text/plain": [
              "<Figure size 432x288 with 1 Axes>"
            ]
          },
          "metadata": {
            "tags": []
          }
        }
      ]
    },
    {
      "cell_type": "markdown",
      "metadata": {
        "id": "XGMJ6Nei8DFc",
        "colab_type": "text"
      },
      "source": [
        "Повернуть на 130 градусов."
      ]
    },
    {
      "cell_type": "code",
      "metadata": {
        "id": "_lBc0EMO95Yg",
        "colab_type": "code",
        "colab": {}
      },
      "source": [
        "from math import cos, sin, pi"
      ],
      "execution_count": 0,
      "outputs": []
    },
    {
      "cell_type": "code",
      "metadata": {
        "id": "38qbD7m78Cat",
        "colab_type": "code",
        "colab": {}
      },
      "source": [
        "# матрица поворота\n",
        "theta = 130*pi/180\n",
        "S2 = np.array([\n",
        "    [cos(theta), sin(theta), 0],\n",
        "    [-sin(theta), cos(theta), 0],\n",
        "    [0, 0, 1]\n",
        "])"
      ],
      "execution_count": 0,
      "outputs": []
    },
    {
      "cell_type": "code",
      "metadata": {
        "id": "i-bScBn699AN",
        "colab_type": "code",
        "colab": {
          "base_uri": "https://localhost:8080/",
          "height": 54
        },
        "outputId": "7d468728-f44b-422c-aff5-97bf37e0fa0e"
      },
      "source": [
        "A3 = []\n",
        "for point in A:\n",
        "  new_point=np.dot(S2,np.transpose(point))\n",
        "  A3.append(new_point)\n",
        "print(A3)"
      ],
      "execution_count": 103,
      "outputs": [
        {
          "output_type": "stream",
          "text": [
            "[array([-12.32568334, 140.88320528,   1.        ]), array([140.88320528,  12.32568334,   1.        ]), array([  12.32568334, -140.88320528,    1.        ]), array([0., 0., 1.]), array([-140.88320528,  -12.32568334,    1.        ]), array([-12.32568334, 140.88320528,   1.        ])]\n"
          ],
          "name": "stdout"
        }
      ]
    },
    {
      "cell_type": "code",
      "metadata": {
        "id": "N7IzN97H-FK0",
        "colab_type": "code",
        "colab": {
          "base_uri": "https://localhost:8080/",
          "height": 286
        },
        "outputId": "59f2ab2d-00d4-4ec4-870e-49eb5e486bc6"
      },
      "source": [
        "A3 = np.array(A3)\n",
        "x = A3[:,0]\n",
        "y = A3[:,1]\n",
        "plt.plot(x, y)\n",
        "plt.ylim([-200, 200])\n",
        "plt.xlim([-200, 200])"
      ],
      "execution_count": 104,
      "outputs": [
        {
          "output_type": "execute_result",
          "data": {
            "text/plain": [
              "(-200, 200)"
            ]
          },
          "metadata": {
            "tags": []
          },
          "execution_count": 104
        },
        {
          "output_type": "display_data",
          "data": {
            "image/png": "[encoded data removed]",
            "text/plain": [
              "<Figure size 432x288 with 1 Axes>"
            ]
          },
          "metadata": {
            "tags": []
          }
        }
      ]
    },
    {
      "cell_type": "markdown",
      "metadata": {
        "id": "JcO_4TV-_UIj",
        "colab_type": "text"
      },
      "source": [
        "По ощущениям, фигура деформируется. Почему так...? При повороте на pi и pi/2 такого не происходит."
      ]
    },
    {
      "cell_type": "markdown",
      "metadata": {
        "id": "-4NryXGJBUoT",
        "colab_type": "text"
      },
      "source": [
        "Отразить объект относительно прямой y=x\n"
      ]
    },
    {
      "cell_type": "code",
      "metadata": {
        "id": "iico7NMLBUAG",
        "colab_type": "code",
        "colab": {}
      },
      "source": [
        "# матрица отражения\n",
        "S3 = [\n",
        "    [0, 1, 0],\n",
        "    [1, 0, 0],\n",
        "    [0, 0, 1],\n",
        "    ]"
      ],
      "execution_count": 0,
      "outputs": []
    },
    {
      "cell_type": "code",
      "metadata": {
        "id": "Ge38laK-Bwli",
        "colab_type": "code",
        "colab": {
          "base_uri": "https://localhost:8080/",
          "height": 34
        },
        "outputId": "cf99cfd9-91a9-4225-a8cb-d98624050cc6"
      },
      "source": [
        "A4 = []\n",
        "for point in A:\n",
        "  new_point=np.dot(S3,np.transpose(point))\n",
        "  A4.append(new_point)\n",
        "print(A4)"
      ],
      "execution_count": 106,
      "outputs": [
        {
          "output_type": "stream",
          "text": [
            "[array([-100, -100,    1]), array([ 100, -100,    1]), array([100, 100,   1]), array([0, 0, 1]), array([-100,  100,    1]), array([-100, -100,    1])]\n"
          ],
          "name": "stdout"
        }
      ]
    },
    {
      "cell_type": "code",
      "metadata": {
        "id": "yulIp-IqB1zx",
        "colab_type": "code",
        "colab": {
          "base_uri": "https://localhost:8080/",
          "height": 286
        },
        "outputId": "0ec540df-430f-4d26-8b81-d1e178c47b2a"
      },
      "source": [
        "A4 = np.array(A4)\n",
        "x = A4[:,0]\n",
        "y = A4[:,1]\n",
        "plt.plot(x, y)\n",
        "plt.ylim([-200, 200])\n",
        "plt.xlim([-200, 200])"
      ],
      "execution_count": 107,
      "outputs": [
        {
          "output_type": "execute_result",
          "data": {
            "text/plain": [
              "(-200, 200)"
            ]
          },
          "metadata": {
            "tags": []
          },
          "execution_count": 107
        },
        {
          "output_type": "display_data",
          "data": {
            "image/png": "[encoded data removed]",
            "text/plain": [
              "<Figure size 432x288 with 1 Axes>"
            ]
          },
          "metadata": {
            "tags": []
          }
        }
      ]
    },
    {
      "cell_type": "markdown",
      "metadata": {
        "id": "X7bveclRCUsc",
        "colab_type": "text"
      },
      "source": [
        "Выполнить смещение объекта и масштабирование (применить 2 матрицы трансформаций). Смещение на (200, 300) и масштабирование на (0.5, 1,2)"
      ]
    },
    {
      "cell_type": "code",
      "metadata": {
        "id": "7UtjbAJ-CVVk",
        "colab_type": "code",
        "colab": {}
      },
      "source": [
        "S = np.array(S)\n",
        "S1 = np.array(S1)\n",
        "S4 = S.dot(S1)"
      ],
      "execution_count": 0,
      "outputs": []
    },
    {
      "cell_type": "code",
      "metadata": {
        "id": "louWeKphDZeH",
        "colab_type": "code",
        "colab": {
          "base_uri": "https://localhost:8080/",
          "height": 34
        },
        "outputId": "20359cdf-66c9-4686-b3eb-6362fee17e84"
      },
      "source": [
        "A5 = []\n",
        "for point in A:\n",
        "  new_point=np.dot(S4,np.transpose(point))\n",
        "  A5.append(new_point)\n",
        "print(A5)"
      ],
      "execution_count": 113,
      "outputs": [
        {
          "output_type": "stream",
          "text": [
            "[array([250., 150.,   1.]), array([250., 250.,   1.]), array([350., 250.,   1.]), array([300., 200.,   1.]), array([350., 150.,   1.]), array([250., 150.,   1.])]\n"
          ],
          "name": "stdout"
        }
      ]
    },
    {
      "cell_type": "code",
      "metadata": {
        "id": "-yOVNiRUDft_",
        "colab_type": "code",
        "colab": {
          "base_uri": "https://localhost:8080/",
          "height": 282
        },
        "outputId": "96478ef3-9901-4c9b-f4ac-74ede4cca3cc"
      },
      "source": [
        "A5 = np.array(A5)\n",
        "x = A5[:,0]\n",
        "y = A5[:,1]\n",
        "plt.plot(x, y)\n",
        "plt.ylim([-500, 500])\n",
        "plt.xlim([-500, 500])"
      ],
      "execution_count": 115,
      "outputs": [
        {
          "output_type": "execute_result",
          "data": {
            "text/plain": [
              "(-500, 500)"
            ]
          },
          "metadata": {
            "tags": []
          },
          "execution_count": 115
        },
        {
          "output_type": "display_data",
          "data": {
            "image/png": "[encoded data removed]",
            "text/plain": [
              "<Figure size 432x288 with 1 Axes>"
            ]
          },
          "metadata": {
            "tags": []
          }
        }
      ]
    }
  ]
}