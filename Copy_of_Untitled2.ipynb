{
  "nbformat": 4,
  "nbformat_minor": 0,
  "metadata": {
    "colab": {
      "name": "Copy of Untitled2.ipynb",
      "provenance": [],
      "collapsed_sections": [],
      "include_colab_link": true
    },
    "kernelspec": {
      "name": "python3",
      "display_name": "Python 3"
    }
  },
  "cells": [
    {
      "cell_type": "markdown",
      "metadata": {
        "id": "view-in-github",
        "colab_type": "text"
      },
      "source": [
        "<a href=\"https://colab.research.google.com/github/Natalya7oct/Feature-selection/blob/master/Copy_of_Untitled2.ipynb\" target=\"_parent\"><img src=\"https://colab.research.google.com/assets/colab-badge.svg\" alt=\"Open In Colab\"/></a>"
      ]
    },
    {
      "cell_type": "markdown",
      "metadata": {
        "id": "hTHl3kyDWIGO",
        "colab_type": "text"
      },
      "source": [
        "# Математики для data science.\n",
        "# Домашнее задание 2."
      ]
    },
    {
      "cell_type": "markdown",
      "metadata": {
        "id": "OAJG6826Pnft",
        "colab_type": "text"
      },
      "source": [
        "**Задание на отображение множеств.**"
      ]
    },
    {
      "cell_type": "markdown",
      "metadata": {
        "id": "lHtJSvE3Pt9i",
        "colab_type": "text"
      },
      "source": [
        "**Задание 1.**"
      ]
    },
    {
      "cell_type": "markdown",
      "metadata": {
        "id": "pRTF1ROCPxoR",
        "colab_type": "text"
      },
      "source": [
        "Написать функцию отображения элементов одного множества в другое. Первое множество - художники, второе множество - картины художников.\n",
        "Множество художников - Серов, Левитан, Репин, Васнецов, Шишкин. \n",
        "Множество картин - \"Утро в сосновом бору\", \"Богатыри\", \"Золотая осень\", \"Девочка с персиками\", \"Запорожцы\", \"Буралки на Волге\", \"Март\", \"Алёнушка\". \n"
      ]
    },
    {
      "cell_type": "code",
      "metadata": {
        "id": "ea9wKlApQ4cT",
        "colab_type": "code",
        "colab": {}
      },
      "source": [
        "dict_for_paintings = dict()\n",
        "dict_for_paintings['Шишкин'] = ['Утро в сосновом бору']\n",
        "dict_for_paintings['Васнецов'] = ['Богатыри', 'Алёнушка']\n",
        "dict_for_paintings['Левитан'] = ['Золотая осень', 'Март']\n",
        "dict_for_paintings['Серов'] = ['Девочка с персиками']\n",
        "dict_for_paintings['Репин'] = ['Запорожцы','Буралки на Волге']"
      ],
      "execution_count": 0,
      "outputs": []
    },
    {
      "cell_type": "code",
      "metadata": {
        "id": "H2bwTCT3PstI",
        "colab_type": "code",
        "outputId": "f1b84f1b-8b46-43bf-8f5a-0d55951e15bb",
        "colab": {
          "base_uri": "https://localhost:8080/",
          "height": 35
        }
      },
      "source": [
        "dict_for_paintings['Васнецов']"
      ],
      "execution_count": 0,
      "outputs": [
        {
          "output_type": "execute_result",
          "data": {
            "text/plain": [
              "['Богатыри', 'Алёнушка']"
            ]
          },
          "metadata": {
            "tags": []
          },
          "execution_count": 5
        }
      ]
    },
    {
      "cell_type": "markdown",
      "metadata": {
        "id": "4QwS5m7CWXY3",
        "colab_type": "text"
      },
      "source": [
        "**Полиномиальные функции.**"
      ]
    },
    {
      "cell_type": "markdown",
      "metadata": {
        "id": "thQjcSL7WbIY",
        "colab_type": "text"
      },
      "source": [
        "**Задание 2**. Найти из следующих функций те, которые являются полиномиальной функцией."
      ]
    },
    {
      "cell_type": "markdown",
      "metadata": {
        "id": "GbDQjj-pWjqm",
        "colab_type": "text"
      },
      "source": [
        "*  $$f(x)=\\frac{1}{2}x^{6}-1\\frac{5}{6}x+\\frac{1}{3}$$\n",
        "*  $$f(x)=\\frac{3x^{6}-11x+2}{6}$$\n",
        "*  $$f(x)=\\frac{3x^{6}-11x+2}{6x}$$\n",
        "*  $$f(x)=x^{5}-3x^{2}+7x^{-2}$$\n",
        "*  $$f(x)=(5x^{2}-2)^3-\\frac{1}{2}x^{3}$$\n",
        "*  $$f(x)=(1+\\sqrt{x})^{3}-5(1+\\sqrt{x})$$\n",
        "*  $$f(x)=\\pi $$\n",
        "\n"
      ]
    },
    {
      "cell_type": "markdown",
      "metadata": {
        "id": "kTlgcK0FSa24",
        "colab_type": "text"
      },
      "source": [
        "Полиномы:\n",
        "*  $$f(x)=\\frac{1}{2}x^{6}-1\\frac{5}{6}x+\\frac{1}{3}$$\n",
        "*  $$f(x)=\\frac{3x^{6}-11x+2}{6}$$\n",
        "*  $$f(x)=(5x^{2}-2)^3-\\frac{1}{2}x^{3}$$\n"
      ]
    },
    {
      "cell_type": "markdown",
      "metadata": {
        "id": "2SOZDLZQW9vK",
        "colab_type": "text"
      },
      "source": [
        "**Задание 3**. Раскрыть скобки для следующего полинома $$(2x+1)^{2}(x-1)-x(4x^{2}-1)-x(4x^{2}-1)=ax^3+bx^2+cx+d$$ найти коэффициенты для a, b, c, d."
      ]
    },
    {
      "cell_type": "markdown",
      "metadata": {
        "id": "bfrx5aHpS0IG",
        "colab_type": "text"
      },
      "source": [
        "$$(2x+1)^{2}(x-1)-x(4x^{2}-1)-x(4x^{2}-1)=(4x^{2}+4x+1)(x-1)-x(4x^{2}-1)-x(4x^{2}-1)=4x^{3}+4x^{2}+x-4x^{2}-4x-1-4x^{3}+x-4x^{3}+x=x^{3}(4-4-4)+x^{2}(4-4)+x(1-4+1+1)-1=-4x^{3}-x-1$$\n"
      ]
    },
    {
      "cell_type": "markdown",
      "metadata": {
        "id": "FW0p4xjzIdRZ",
        "colab_type": "text"
      },
      "source": [
        "Для данного задания полезно использовать следующие формулы сокращенного умножения:\n",
        "![alt text](https://sun9-38.userapi.com/c851232/v851232044/19c5b0/7Yy6qz-MUHA.jpg)"
      ]
    },
    {
      "cell_type": "markdown",
      "metadata": {
        "id": "hETFA0bzXYdw",
        "colab_type": "text"
      },
      "source": [
        "Чему равна степень полинома?"
      ]
    },
    {
      "cell_type": "markdown",
      "metadata": {
        "id": "9xYJrjQcUZwJ",
        "colab_type": "text"
      },
      "source": [
        "Степень полинома равна 3."
      ]
    },
    {
      "cell_type": "markdown",
      "metadata": {
        "id": "EH8FFbsvt64f",
        "colab_type": "text"
      },
      "source": [
        "Нарисовать график для полинома."
      ]
    },
    {
      "cell_type": "code",
      "metadata": {
        "id": "76Zj6C4VUqyP",
        "colab_type": "code",
        "colab": {}
      },
      "source": [
        "import numpy as np\n",
        "import matplotlib.pyplot as plt"
      ],
      "execution_count": 0,
      "outputs": []
    },
    {
      "cell_type": "code",
      "metadata": {
        "id": "wk89rocGSoYC",
        "colab_type": "code",
        "outputId": "dc201efc-2d79-41c8-e7ac-310eaeaf82e4",
        "colab": {
          "base_uri": "https://localhost:8080/",
          "height": 295
        }
      },
      "source": [
        "def func(x):\n",
        "  return -4*x**3-x-1\n",
        "  \n",
        "# создаем вектор x\n",
        "x1 = np.linspace(-3.0, 3.0, 100)\n",
        "# на основе вектора x строим значения для вектора y\n",
        "y1 = [func(x1[i]) for i in range(len(x1))]\n",
        "\n",
        "plt.plot(x1, y1)\n",
        "plt.title('График функции')\n",
        "plt.ylabel('y')\n",
        "plt.xlabel('x')\n",
        "\n",
        "plt.show()"
      ],
      "execution_count": 0,
      "outputs": [
        {
          "output_type": "display_data",
          "data": {
            "image/png": "[encoded data removed]",
            "text/plain": [
              "<Figure size 432x288 with 1 Axes>"
            ]
          },
          "metadata": {
            "tags": []
          }
        }
      ]
    },
    {
      "cell_type": "markdown",
      "metadata": {
        "id": "YnGld7mvZNUB",
        "colab_type": "text"
      },
      "source": [
        "**Задание 3**.\n",
        "Для заданных функций найти подходящий график (не все функции имеют график):\n",
        "$\\frac{3}{4}x-1$,  $\\frac{3}{4}x+2$, $2-2x$, $2+2x$, $\\frac{1}{4}(x+1)^{2}-2 $, $\\frac{1}{4}(x-1)^2-2$, $(x-1)(x-3)$, $(x+1)(x+3)$, $2-x^2$, $2-\\frac{1}{4}x^2$"
      ]
    },
    {
      "cell_type": "markdown",
      "metadata": {
        "id": "8TCnR4urZX_A",
        "colab_type": "text"
      },
      "source": [
        "![alt text](https://pp.userapi.com/c855532/v855532908/aadd4/uWjIZGDfw0s.jpg)"
      ]
    },
    {
      "cell_type": "markdown",
      "metadata": {
        "id": "Zz8uoWE0Vvx3",
        "colab_type": "text"
      },
      "source": [
        "\n",
        "\n",
        "Первый график в первом ряду :  $2-2x$\n",
        "\n",
        "Второй график в первом ряду :  $2-\\frac{1}{4}x^2$\n",
        "\n",
        "Третий график в первом ряду :  $2-x^2$\n",
        "\n",
        "Первый график во втором ряду :  $\\frac{1}{4}(x+1)^{2}-2 $\n",
        "\n",
        "Второй график во втором ряду :  $\\frac{3}{4}x+2$\n",
        "\n",
        "Третий график во втором ряду : $\\frac{1}{4}(x-1)^2-2$\n"
      ]
    },
    {
      "cell_type": "markdown",
      "metadata": {
        "id": "v4PsJSrlbGni",
        "colab_type": "text"
      },
      "source": [
        "**Задание 4.** Найти минимальную степень следующего полинома:\n",
        "\n",
        "![alt text](https://pp.userapi.com/c855532/v855532908/aadcd/PZdPYTQT02A.jpg)"
      ]
    },
    {
      "cell_type": "markdown",
      "metadata": {
        "id": "7F_8D1JpYYx4",
        "colab_type": "text"
      },
      "source": [
        "График пересекает ось 0x 5 раз, значит, минимальная степень полинома - 5."
      ]
    },
    {
      "cell_type": "markdown",
      "metadata": {
        "id": "In-LISkBGJ1u",
        "colab_type": "text"
      },
      "source": [
        "**Задания повышенного уровня**"
      ]
    },
    {
      "cell_type": "markdown",
      "metadata": {
        "id": "FGmhJtvceZO6",
        "colab_type": "text"
      },
      "source": [
        "Почему следующие функции не являются полиномиальными?\n",
        "$$y=5x^{-2}+1$$ - степень отрицательная\n",
        "$$y=3x^{1/2}+2$$ - степень дробная\n",
        "$$y=(5x+1)/(3x)$$ - отрицательная степень после раскрытия скобок"
      ]
    },
    {
      "cell_type": "markdown",
      "metadata": {
        "id": "XyzbTtgEezLl",
        "colab_type": "text"
      },
      "source": [
        "Найдите наибольшее и наименьшее значение функции $y = x^3 + 2x^2 + x + 3 $ на отрезке [-4;-1]. "
      ]
    },
    {
      "cell_type": "code",
      "metadata": {
        "id": "OzDe3s4YbPXv",
        "colab_type": "code",
        "colab": {}
      },
      "source": [
        "x = np.linspace(-4.0, -1.0, 100)\n",
        "y = [x[i]**3 + 2*x[i]**2 + x + 3 for i in range(len(x))]"
      ],
      "execution_count": 0,
      "outputs": []
    },
    {
      "cell_type": "code",
      "metadata": {
        "id": "TTWbEgXdhDvO",
        "colab_type": "code",
        "colab": {}
      },
      "source": [
        "y=[]\n",
        "for i in x:\n",
        "  y.append(i**3 + 2*i**2 + i + 3)"
      ],
      "execution_count": 0,
      "outputs": []
    },
    {
      "cell_type": "code",
      "metadata": {
        "id": "U0M2hR-XhzkF",
        "colab_type": "code",
        "colab": {
          "base_uri": "https://localhost:8080/",
          "height": 53
        },
        "outputId": "5921da65-965c-4769-8443-0e740e01e8c2"
      },
      "source": [
        "print (max(y))\n",
        "print (min(y))"
      ],
      "execution_count": 43,
      "outputs": [
        {
          "output_type": "stream",
          "text": [
            "3.0\n",
            "-33.0\n"
          ],
          "name": "stdout"
        }
      ]
    },
    {
      "cell_type": "markdown",
      "metadata": {
        "id": "zZwKoyIwf4SV",
        "colab_type": "text"
      },
      "source": [
        "Пример линейной регрессии - это применение полиномов на практике. В следующем примере дан датасет x, y, сгенерированный рандомно. Мы можем использовать линейную регрессию, чтобы предсказать значение переменной y от x. "
      ]
    },
    {
      "cell_type": "code",
      "metadata": {
        "id": "wyWYYrGnWHVk",
        "colab_type": "code",
        "colab": {}
      },
      "source": [
        "import numpy as np\n",
        "import matplotlib.pyplot as plt\n",
        "\n",
        "from sklearn.linear_model import LinearRegression\n",
        "\n",
        "np.random.seed(0)\n",
        "x = 2 - 3 * np.random.normal(0, 1, 20)\n",
        "y = x - 2 * (x ** 2) + 0.5 * (x ** 3) + np.random.normal(-3, 3, 20)\n",
        "\n",
        "# transforming the data to include another axis\n",
        "x = x[:, np.newaxis]\n",
        "y = y[:, np.newaxis]\n",
        "\n",
        "model = LinearRegression()\n",
        "model.fit(x, y)\n",
        "y_predict = model.predict(x)\n"
      ],
      "execution_count": 0,
      "outputs": []
    },
    {
      "cell_type": "code",
      "metadata": {
        "id": "esNKNKL5j0ap",
        "colab_type": "code",
        "colab": {
          "base_uri": "https://localhost:8080/",
          "height": 279
        },
        "outputId": "ad0dc1bb-f528-459f-f627-faff38f6acdf"
      },
      "source": [
        "plt.plot(x, y_predict)\n",
        "plt.ylabel('y')\n",
        "plt.xlabel('x')\n",
        "\n",
        "plt.scatter(x, y, marker='o', c='r')\n",
        "\n",
        "plt.show()"
      ],
      "execution_count": 90,
      "outputs": [
        {
          "output_type": "display_data",
          "data": {
            "image/png": "[encoded data removed]",
            "text/plain": [
              "<Figure size 432x288 with 1 Axes>"
            ]
          },
          "metadata": {
            "tags": []
          }
        }
      ]
    },
    {
      "cell_type": "markdown",
      "metadata": {
        "id": "_jdDSF1KhGCA",
        "colab_type": "text"
      },
      "source": [
        "В данном примере найден полином первой степени. Как можно улучшить данную модель? Написать пример. "
      ]
    },
    {
      "cell_type": "markdown",
      "metadata": {
        "id": "GZB3_ykklNH1",
        "colab_type": "text"
      },
      "source": [
        "Функция представлена полиномом третьей степени."
      ]
    },
    {
      "cell_type": "code",
      "metadata": {
        "id": "vr0d9MvClSI4",
        "colab_type": "code",
        "colab": {}
      },
      "source": [
        "from sklearn.preprocessing import PolynomialFeatures"
      ],
      "execution_count": 0,
      "outputs": []
    },
    {
      "cell_type": "code",
      "metadata": {
        "id": "IPMUCLgilspN",
        "colab_type": "code",
        "colab": {}
      },
      "source": [
        "cubic = PolynomialFeatures(degree=3)\n",
        "x_cubic = cubic.fit_transform(x)"
      ],
      "execution_count": 0,
      "outputs": []
    },
    {
      "cell_type": "code",
      "metadata": {
        "id": "so6QrikVqi7D",
        "colab_type": "code",
        "colab": {}
      },
      "source": [
        "model = LinearRegression()\n",
        "model.fit(x_cubic, y)\n",
        "y_cubic_predict = model.predict(x_cubic)"
      ],
      "execution_count": 0,
      "outputs": []
    },
    {
      "cell_type": "code",
      "metadata": {
        "id": "kd5qKWixwB4r",
        "colab_type": "code",
        "colab": {}
      },
      "source": [
        "from sklearn.metrics import mean_squared_error"
      ],
      "execution_count": 0,
      "outputs": []
    },
    {
      "cell_type": "code",
      "metadata": {
        "id": "XR9C0tdZvmKT",
        "colab_type": "code",
        "colab": {
          "base_uri": "https://localhost:8080/",
          "height": 53
        },
        "outputId": "0604d75b-7ea0-4604-b8b3-a83fb8a9d641"
      },
      "source": [
        "print('MSE linear model: {:.3f}'.format(\n",
        "        mean_squared_error(y, y_predict)))\n",
        "print('MSE cubic linear model: {:.3f}'.format(\n",
        "        mean_squared_error(y, y_cubic_predict)))"
      ],
      "execution_count": 110,
      "outputs": [
        {
          "output_type": "stream",
          "text": [
            "MSE linear model: 253.072\n",
            "MSE cubic linear model: 11.902\n"
          ],
          "name": "stdout"
        }
      ]
    },
    {
      "cell_type": "code",
      "metadata": {
        "id": "N_rFprXOqrWI",
        "colab_type": "code",
        "colab": {
          "base_uri": "https://localhost:8080/",
          "height": 279
        },
        "outputId": "5aafe76a-c6a9-4c9d-cbfb-3afc63cfab25"
      },
      "source": [
        "plt.scatter(x, y, marker='o', c='r')\n",
        "plt.plot(x, y_predict, c='b')\n",
        "plt.plot(x, y_cubic_predict, c='g')\n",
        "plt.ylabel('y')\n",
        "plt.xlabel('x')\n",
        "\n",
        "plt.show()"
      ],
      "execution_count": 95,
      "outputs": [
        {
          "output_type": "display_data",
          "data": {
            "image/png": "[encoded data removed]",
            "text/plain": [
              "<Figure size 432x288 with 1 Axes>"
            ]
          },
          "metadata": {
            "tags": []
          }
        }
      ]
    },
    {
      "cell_type": "markdown",
      "metadata": {
        "id": "ZyrPwpWdw0ow",
        "colab_type": "text"
      },
      "source": [
        "Почему так неправильно отрисовывается кубическая функция?"
      ]
    }
  ]
}