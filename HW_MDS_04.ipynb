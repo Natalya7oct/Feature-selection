{
  "nbformat": 4,
  "nbformat_minor": 0,
  "metadata": {
    "colab": {
      "name": "HW_MDS_04.ipynb",
      "provenance": [],
      "include_colab_link": true
    },
    "kernelspec": {
      "name": "python3",
      "display_name": "Python 3"
    }
  },
  "cells": [
    {
      "cell_type": "markdown",
      "metadata": {
        "id": "view-in-github",
        "colab_type": "text"
      },
      "source": [
        "<a href=\"https://colab.research.google.com/github/Natalya7oct/Feature-selection/blob/master/HW_MDS_04.ipynb\" target=\"_parent\"><img src=\"https://colab.research.google.com/assets/colab-badge.svg\" alt=\"Open In Colab\"/></a>"
      ]
    },
    {
      "cell_type": "code",
      "metadata": {
        "id": "82vUcqoSp-6H",
        "colab_type": "code",
        "colab": {}
      },
      "source": [
        "import numpy as np\n",
        "from scipy.optimize import approx_fprime"
      ],
      "execution_count": 0,
      "outputs": []
    },
    {
      "cell_type": "code",
      "metadata": {
        "id": "DwBv0r8UxDS6",
        "colab_type": "code",
        "colab": {}
      },
      "source": [
        "import math"
      ],
      "execution_count": 0,
      "outputs": []
    },
    {
      "cell_type": "code",
      "metadata": {
        "id": "i3IwqFwvBCZb",
        "colab_type": "code",
        "colab": {}
      },
      "source": [
        "from scipy.optimize import minimize"
      ],
      "execution_count": 0,
      "outputs": []
    },
    {
      "cell_type": "markdown",
      "metadata": {
        "id": "qi8QxpIzqJrE",
        "colab_type": "text"
      },
      "source": [
        "Задание 1:\n",
        "Посчитайте частные производные функций в точках (как обычно, необходимо решение на бумажке или в LaTeX и на numpy):\n",
        "\n",
        "1) $f(x,y)=2x^2y^3 + 1/x + y^2x + 7$ в точке $(1,2)$\n",
        "\n",
        "2) $f(x,y)=x^2y - sin(xy) + cos(x^2) + 6y$"
      ]
    },
    {
      "cell_type": "code",
      "metadata": {
        "id": "mcdvh-vzqKQs",
        "colab_type": "code",
        "colab": {}
      },
      "source": [
        "def fun_1_1(x):\n",
        "  return 2*x[0]**2*x[1]**3+1/x[0]+x[1]**2*x[0]+7"
      ],
      "execution_count": 0,
      "outputs": []
    },
    {
      "cell_type": "code",
      "metadata": {
        "id": "iWUJuCSmqkq8",
        "colab_type": "code",
        "colab": {
          "base_uri": "https://localhost:8080/",
          "height": 34
        },
        "outputId": "535687af-d8ee-4020-c579-c1aaee028bed"
      },
      "source": [
        "x = [1, 2]\n",
        "eps = np.sqrt(np.finfo(float).eps)\n",
        "approx_fprime(x, fun_1_1, [eps, eps])"
      ],
      "execution_count": 7,
      "outputs": [
        {
          "output_type": "execute_result",
          "data": {
            "text/plain": [
              "array([35.00000024, 28.00000024])"
            ]
          },
          "metadata": {
            "tags": []
          },
          "execution_count": 7
        }
      ]
    },
    {
      "cell_type": "code",
      "metadata": {
        "id": "NtitI83Dwt_D",
        "colab_type": "code",
        "colab": {}
      },
      "source": [
        "def fun_1_2(x):\n",
        "  return x[0]**2*x[1]-math.sin(x[0]*x[1])+math.cos(x[0]**2)+6*x[1]"
      ],
      "execution_count": 0,
      "outputs": []
    },
    {
      "cell_type": "code",
      "metadata": {
        "id": "pA9D8icRw_Ur",
        "colab_type": "code",
        "colab": {
          "base_uri": "https://localhost:8080/",
          "height": 34
        },
        "outputId": "573a3238-2cc9-4a1d-b5b7-fa48f07c1a81"
      },
      "source": [
        "x = [1, 2]\n",
        "eps = np.sqrt(np.finfo(float).eps)\n",
        "approx_fprime(x, fun_1_2, [eps, eps])"
      ],
      "execution_count": 20,
      "outputs": [
        {
          "output_type": "execute_result",
          "data": {
            "text/plain": [
              "array([3.14935184, 7.41614687])"
            ]
          },
          "metadata": {
            "tags": []
          },
          "execution_count": 20
        }
      ]
    },
    {
      "cell_type": "markdown",
      "metadata": {
        "id": "ukTWTlNzzBns",
        "colab_type": "text"
      },
      "source": [
        "Задание 2:\n",
        "Градиентный спуск своими руками"
      ]
    },
    {
      "cell_type": "code",
      "metadata": {
        "id": "wdiWITuOzCF8",
        "colab_type": "code",
        "colab": {}
      },
      "source": [
        "def f(x):\n",
        "    return (x[0]**2) + (x[1]**2)"
      ],
      "execution_count": 0,
      "outputs": []
    },
    {
      "cell_type": "code",
      "metadata": {
        "id": "4borLW0-zGAn",
        "colab_type": "code",
        "colab": {}
      },
      "source": [
        "x = np.array([100, 200])\n",
        "lr = 0.1"
      ],
      "execution_count": 0,
      "outputs": []
    },
    {
      "cell_type": "code",
      "metadata": {
        "id": "WZ3kqCpAzIPl",
        "colab_type": "code",
        "colab": {}
      },
      "source": [
        "for i in range(100):\n",
        "  grad = approx_fprime(x, f, [lr, lr])\n",
        "  x=x-grad*lr"
      ],
      "execution_count": 0,
      "outputs": []
    },
    {
      "cell_type": "code",
      "metadata": {
        "id": "Hqwc22iRzNP-",
        "colab_type": "code",
        "colab": {
          "base_uri": "https://localhost:8080/",
          "height": 51
        },
        "outputId": "1204981e-3652-4b93-9f6b-2d4404e86eba"
      },
      "source": [
        "print(\"Минимум достигается в: \", x)\n",
        "print(\"Значение функции в минимуме: \", f(x))"
      ],
      "execution_count": 58,
      "outputs": [
        {
          "output_type": "stream",
          "text": [
            "Минимум достигается в:  [-0.04999998 -0.04999996]\n",
            "Значение функции в минимуме:  0.0049999938868571115\n"
          ],
          "name": "stdout"
        }
      ]
    },
    {
      "cell_type": "markdown",
      "metadata": {
        "id": "bEt5ro8RzRHt",
        "colab_type": "text"
      },
      "source": [
        "Проверка с помощью встроенной функции numpy:"
      ]
    },
    {
      "cell_type": "code",
      "metadata": {
        "id": "xzb9zc3XAyFn",
        "colab_type": "code",
        "colab": {
          "base_uri": "https://localhost:8080/",
          "height": 85
        },
        "outputId": "8d07290e-b65d-4e43-8d6c-c19ac3adc9b1"
      },
      "source": [
        "res = minimize(f, x, method='nelder-mead', options={'xtol': 1e-8, 'disp': True})"
      ],
      "execution_count": 38,
      "outputs": [
        {
          "output_type": "stream",
          "text": [
            "Optimization terminated successfully.\n",
            "         Current function value: 0.000000\n",
            "         Iterations: 85\n",
            "         Function evaluations: 164\n"
          ],
          "name": "stdout"
        }
      ]
    }
  ]
}