{
  "nbformat": 4,
  "nbformat_minor": 0,
  "metadata": {
    "colab": {
      "name": "FW_MDS.ipynb",
      "provenance": [],
      "collapsed_sections": [],
      "include_colab_link": true
    },
    "kernelspec": {
      "name": "python3",
      "display_name": "Python 3"
    }
  },
  "cells": [
    {
      "cell_type": "markdown",
      "metadata": {
        "id": "view-in-github",
        "colab_type": "text"
      },
      "source": [
        "<a href=\"https://colab.research.google.com/github/Natalya7oct/Feature-selection/blob/master/FW_MDS.ipynb\" target=\"_parent\"><img src=\"https://colab.research.google.com/assets/colab-badge.svg\" alt=\"Open In Colab\"/></a>"
      ]
    },
    {
      "cell_type": "code",
      "metadata": {
        "id": "yQxwoxcfI3B0",
        "colab_type": "code",
        "colab": {}
      },
      "source": [
        "import pandas as pd\n",
        "import numpy as np\n",
        "import matplotlib.pyplot as plt\n",
        "import scipy.stats as sts\n",
        "import math\n",
        "from itertools import chain\n",
        "from sklearn.decomposition import TruncatedSVD\n",
        "from scipy.misc import derivative\n",
        "import statistics\n",
        "from scipy.optimize import minimize\n",
        "from scipy.optimize import differential_evolution\n",
        "import scipy.optimize as opt\n",
        "\n",
        "\n",
        "%matplotlib inline"
      ],
      "execution_count": 0,
      "outputs": []
    },
    {
      "cell_type": "markdown",
      "metadata": {
        "id": "Dw0PflSVITLb",
        "colab_type": "text"
      },
      "source": [
        "*Задание* 1\n",
        "Дана матрица рейтингов фильмов (строки - пользователи (10 человек), столбцы - фильмы (15 фильмов))"
      ]
    },
    {
      "cell_type": "code",
      "metadata": {
        "id": "Gj_m1IHHITsR",
        "colab_type": "code",
        "colab": {}
      },
      "source": [
        "raitings = [[ 4,  4,  9,  4,  1,  6, 10,  7,  9,  6,  9,  2,  8,  6,  6],\n",
        "            [ 9,  2,  5, 10,  7,  8, 10,  5,  6,  2,  1,  6,  8,  9,  7],\n",
        "            [ 1,  6,  8,  8,  4,  9,  3,  8, 10,  5,  2,  6,  8,  1,  6],\n",
        "            [ 6,  1,  9,  7,  7,  9,  2,  3,  5,  1,  6,  6,  3,  2,  7],\n",
        "            [ 3,  7,  3,  5,  7,  9,  9,  6,  2,  9,  1,  2,  8, 10,  6],\n",
        "            [ 8,  3,  7,  3,  8,  6,  1,  8,  8,  6,  1,  9,  4, 10,  1],\n",
        "            [ 9,  8,  4,  8,  8, 10,  6,  1,  1,  2,  9,  5,  2,  7,  2],\n",
        "            [ 4,  1,  6,  4,  3, 10,  4,  4,  2,  8,  7,  9,  3,  8,  3],\n",
        "            [ 2,  7,  7,  6, 10,  6,  8,  9,  8,  6, 10,  1,  7, 10,  4],\n",
        "            [ 5, 10,  8,  8,  9,  7,  2,  9,  9, 10,  8,  8,  8,  6, 10]]"
      ],
      "execution_count": 0,
      "outputs": []
    },
    {
      "cell_type": "markdown",
      "metadata": {
        "id": "p41JGW8xIaEr",
        "colab_type": "text"
      },
      "source": [
        "\n",
        "a) Необходимо найти наиболее похожего пользователя по косинусной метрике для каждого из (ответ: 10 пар вида (x, y), где y - наиболее похожий пользователь на пользователя x)."
      ]
    },
    {
      "cell_type": "code",
      "metadata": {
        "id": "_QY4kSr3IbGB",
        "colab_type": "code",
        "colab": {}
      },
      "source": [
        "def distCosine (vecA, vecB):\n",
        "  return np.dot(vecA, vecB) / math.sqrt(np.dot(vecA,vecA)) / math.sqrt(np.dot(vecB,vecB))"
      ],
      "execution_count": 0,
      "outputs": []
    },
    {
      "cell_type": "code",
      "metadata": {
        "id": "jcCHssGNVz23",
        "colab_type": "code",
        "colab": {}
      },
      "source": [
        "def fun_best_pair(raitings):\n",
        "  for i in range(len(raitings)):\n",
        "     min_similarity=1\n",
        "     merged = chain(range(i), range(i+1, len(raitings)))\n",
        "     for j in merged:\n",
        "         if (distCosine(raitings[i],raitings[j])<=min_similarity or distCosine(raitings[j],raitings[i])<=min_similarity):\n",
        "            min_similarity=min(distCosine(raitings[i],raitings[j]),distCosine(raitings[j],raitings[i]))\n",
        "            best_pair=j\n",
        "     print(i,' - user;', best_pair,' - best pair;', '%.3f' % min_similarity, ' - similarity')"
      ],
      "execution_count": 0,
      "outputs": []
    },
    {
      "cell_type": "code",
      "metadata": {
        "id": "VQc0TK--WZd4",
        "colab_type": "code",
        "outputId": "bb6f0381-77c7-47d3-e621-748af6d5fcaa",
        "colab": {
          "base_uri": "https://localhost:8080/",
          "height": 187
        }
      },
      "source": [
        "fun_best_pair(raitings)"
      ],
      "execution_count": 0,
      "outputs": [
        {
          "output_type": "stream",
          "text": [
            "0  - user; 6  - best pair; 0.727  - similarity\n",
            "1  - user; 7  - best pair; 0.800  - similarity\n",
            "2  - user; 6  - best pair; 0.676  - similarity\n",
            "3  - user; 4  - best pair; 0.692  - similarity\n",
            "4  - user; 3  - best pair; 0.692  - similarity\n",
            "5  - user; 6  - best pair; 0.740  - similarity\n",
            "6  - user; 2  - best pair; 0.676  - similarity\n",
            "7  - user; 2  - best pair; 0.763  - similarity\n",
            "8  - user; 3  - best pair; 0.777  - similarity\n",
            "9  - user; 6  - best pair; 0.792  - similarity\n"
          ],
          "name": "stdout"
        }
      ]
    },
    {
      "cell_type": "markdown",
      "metadata": {
        "id": "ub_hVplXT6_M",
        "colab_type": "text"
      },
      "source": [
        "\n",
        "b) Предположим, вы захотели сжать признаковые описания пользователя с 15 фильмов, до, скажем, 5-ти признаков, как вы это сделаете?"
      ]
    },
    {
      "cell_type": "code",
      "metadata": {
        "id": "11ePSSskT8Qn",
        "colab_type": "code",
        "colab": {}
      },
      "source": [
        "def func_svd(raitings,i):\n",
        "  svd = TruncatedSVD(n_components=i)\n",
        "  raitings_reduced = svd.fit_transform(raitings)\n",
        "  return raitings_reduced"
      ],
      "execution_count": 0,
      "outputs": []
    },
    {
      "cell_type": "code",
      "metadata": {
        "colab_type": "code",
        "id": "qAc-_D9SbsOJ",
        "colab": {}
      },
      "source": [
        "raitings_reduced=func_svd(raitings,5)"
      ],
      "execution_count": 0,
      "outputs": []
    },
    {
      "cell_type": "code",
      "metadata": {
        "id": "CQgjdxtHboLJ",
        "colab_type": "code",
        "outputId": "ad5fcabb-7eac-4963-a009-78871608506d",
        "colab": {
          "base_uri": "https://localhost:8080/",
          "height": 187
        }
      },
      "source": [
        "fun_best_pair(raitings_reduced)"
      ],
      "execution_count": 0,
      "outputs": [
        {
          "output_type": "stream",
          "text": [
            "0  - user; 5  - best pair; 0.754  - similarity\n",
            "1  - user; 9  - best pair; 0.834  - similarity\n",
            "2  - user; 6  - best pair; 0.678  - similarity\n",
            "3  - user; 4  - best pair; 0.711  - similarity\n",
            "4  - user; 3  - best pair; 0.711  - similarity\n",
            "5  - user; 0  - best pair; 0.754  - similarity\n",
            "6  - user; 2  - best pair; 0.678  - similarity\n",
            "7  - user; 2  - best pair; 0.825  - similarity\n",
            "8  - user; 3  - best pair; 0.790  - similarity\n",
            "9  - user; 6  - best pair; 0.803  - similarity\n"
          ],
          "name": "stdout"
        }
      ]
    },
    {
      "cell_type": "markdown",
      "metadata": {
        "id": "pPLB8Y67cZrz",
        "colab_type": "text"
      },
      "source": [
        "Вывод: приближение сохранило схожесть почти всех пользователей (для 7 из 10 пользователей)."
      ]
    },
    {
      "cell_type": "markdown",
      "metadata": {
        "id": "bczn3596ezxA",
        "colab_type": "text"
      },
      "source": [
        "Задание 2\n",
        "Вычислите производную $tg^2(sin(x) + cos(2x+3))$ в точке $x_0=1$ на python и на бумаге (просто подставить точку в производную и ничего не упрощать)"
      ]
    },
    {
      "cell_type": "code",
      "metadata": {
        "id": "RTZdRUCVe5h_",
        "colab_type": "code",
        "colab": {}
      },
      "source": [
        "def fun(x):\n",
        "  return math.tan(math.sin(x)+math.cos(2*x+3))**2"
      ],
      "execution_count": 0,
      "outputs": []
    },
    {
      "cell_type": "code",
      "metadata": {
        "id": "QHBy0xoeiBK6",
        "colab_type": "code",
        "outputId": "b27578e8-2ef4-441d-adb5-2ed73dab9f5b",
        "colab": {
          "base_uri": "https://localhost:8080/",
          "height": 34
        }
      },
      "source": [
        "print(derivative(fun, 1))"
      ],
      "execution_count": 0,
      "outputs": [
        {
          "output_type": "stream",
          "text": [
            "57.06531269460301\n"
          ],
          "name": "stdout"
        }
      ]
    },
    {
      "cell_type": "markdown",
      "metadata": {
        "id": "vTQryJgptGjk",
        "colab_type": "text"
      },
      "source": [
        "Задание 3\n",
        "Дана функция с неизвестными параметрами a и b, вам также известны значения функции fx в точках x. Найдите оптимальные параметры a, b, минимизирующие абсолютную ошибку error"
      ]
    },
    {
      "cell_type": "code",
      "metadata": {
        "id": "r-YhMLEftHcz",
        "colab_type": "code",
        "colab": {}
      },
      "source": [
        "def f(x_1, a, b):\n",
        "    return np.e**a * np.sin(b*x_1) + x_1"
      ],
      "execution_count": 0,
      "outputs": []
    },
    {
      "cell_type": "code",
      "metadata": {
        "id": "1nhuFQf0uF6N",
        "colab_type": "code",
        "colab": {}
      },
      "source": [
        "x = [0.        , 0.26315789, 0.52631579, 0.78947368, 1.05263158,\n",
        "       1.31578947, 1.57894737, 1.84210526, 2.10526316, 2.36842105,\n",
        "       2.63157895, 2.89473684, 3.15789474, 3.42105263, 3.68421053,\n",
        "       3.94736842, 4.21052632, 4.47368421, 4.73684211, 5.        ]"
      ],
      "execution_count": 0,
      "outputs": []
    },
    {
      "cell_type": "code",
      "metadata": {
        "id": "28wa7wWmuIYo",
        "colab_type": "code",
        "colab": {}
      },
      "source": [
        "fx = [  0.        , -12.01819092, -18.90968634, -17.68786571,\n",
        "        -8.7529108 ,   4.27524517,  16.06801336,  21.81250213,\n",
        "        19.22059845,   9.48411207,  -3.22273056, -13.48576488,\n",
        "       -16.91096359, -11.95866834,  -0.58630088,  12.56873816,\n",
        "        22.12489421,  24.20292139,  18.04522521,   6.33211092]"
      ],
      "execution_count": 0,
      "outputs": []
    },
    {
      "cell_type": "code",
      "metadata": {
        "id": "iR2b7rgTuK0n",
        "colab_type": "code",
        "outputId": "a1448450-3013-4ac9-dd0d-f8dacadcdee8",
        "colab": {
          "base_uri": "https://localhost:8080/",
          "height": 265
        }
      },
      "source": [
        "plt.plot(x, fx)\n",
        "plt.show()"
      ],
      "execution_count": 5,
      "outputs": [
        {
          "output_type": "display_data",
          "data": {
            "image/png": "[encoded data removed]",
            "text/plain": [
              "<Figure size 432x288 with 1 Axes>"
            ]
          },
          "metadata": {
            "tags": []
          }
        }
      ]
    },
    {
      "cell_type": "code",
      "metadata": {
        "id": "WPbAhEHCuOJJ",
        "colab_type": "code",
        "colab": {}
      },
      "source": [
        "def error(params):\n",
        "  error=0\n",
        "  for i in range(len(x)):\n",
        "    error=error+np.abs(fx[i] - f(x[i], params[0], params[1]))\n",
        "  return error"
      ],
      "execution_count": 0,
      "outputs": []
    },
    {
      "cell_type": "code",
      "metadata": {
        "id": "tTwSUS0fEWDj",
        "colab_type": "code",
        "outputId": "92da10cd-6679-41c9-b6f1-eda6027e0f9f",
        "colab": {
          "base_uri": "https://localhost:8080/",
          "height": 119
        }
      },
      "source": [
        "bounds = [(-100, 100), (-100, 100)]\n",
        "result = differential_evolution(error, bounds)\n",
        "result"
      ],
      "execution_count": 9,
      "outputs": [
        {
          "output_type": "execute_result",
          "data": {
            "text/plain": [
              "     fun: 1.2906631369880017e-05\n",
              " message: 'Optimization terminated successfully.'\n",
              "    nfev: 2433\n",
              "     nit: 78\n",
              " success: True\n",
              "       x: array([ 3.        , 21.37610417])"
            ]
          },
          "metadata": {
            "tags": []
          },
          "execution_count": 9
        }
      ]
    },
    {
      "cell_type": "code",
      "metadata": {
        "id": "Vznt6KlHdsnq",
        "colab_type": "code",
        "colab": {
          "base_uri": "https://localhost:8080/",
          "height": 34
        },
        "outputId": "b72c0fc3-ec9d-402e-f76d-88dccc462ef4"
      },
      "source": [
        "params=[ 3.        , 21.37610417]\n",
        "error(params)"
      ],
      "execution_count": 10,
      "outputs": [
        {
          "output_type": "execute_result",
          "data": {
            "text/plain": [
              "1.331455389319558e-05"
            ]
          },
          "metadata": {
            "tags": []
          },
          "execution_count": 10
        }
      ]
    },
    {
      "cell_type": "markdown",
      "metadata": {
        "id": "AP9oY98Ad68y",
        "colab_type": "text"
      },
      "source": [
        "a=3, b=21.37610417 - эти значения минимизируют ошибку лучше всего"
      ]
    },
    {
      "cell_type": "markdown",
      "metadata": {
        "id": "2M3cMv5Lntcp",
        "colab_type": "text"
      },
      "source": [
        "\n",
        "Задание 4\n",
        "Создайте собственную дискретную случайную величину с 20 значениями. Сгенерируйте 1000 выборок размера 50. Посчитайте среднее для каждой выборки. Постройте гистограмму распределения средних."
      ]
    },
    {
      "cell_type": "code",
      "metadata": {
        "id": "9frcPhP-nuqX",
        "colab_type": "code",
        "colab": {}
      },
      "source": [
        "elements = range(20)\n",
        "probabilities = [0.05]*20\n",
        "list_means=[]\n",
        "for i in range(1000): \n",
        "  data=np.random.choice(elements, 50, p=probabilities)\n",
        "  list_means.append(statistics.mean(data))"
      ],
      "execution_count": 0,
      "outputs": []
    },
    {
      "cell_type": "code",
      "metadata": {
        "id": "Jrj1Ba51qwbH",
        "colab_type": "code",
        "outputId": "3701d273-b92b-47dd-a810-8254a22485c0",
        "colab": {
          "base_uri": "https://localhost:8080/",
          "height": 269
        }
      },
      "source": [
        "plt.hist(list_means, 5, density=True,color='Green')\n",
        "plt.show()"
      ],
      "execution_count": 0,
      "outputs": [
        {
          "output_type": "display_data",
          "data": {
            "image/png": "[encoded data removed]",
            "text/plain": [
              "<Figure size 432x288 with 1 Axes>"
            ]
          },
          "metadata": {
            "tags": []
          }
        }
      ]
    },
    {
      "cell_type": "markdown",
      "metadata": {
        "id": "IvClgNZLnCHw",
        "colab_type": "text"
      },
      "source": [
        "Задание 5\n",
        "Найдите собственные значения и собственные вектора матрицы (на python и на бумаге)\n",
        "\n",
        "[[1, 4],\n",
        "\n",
        "[1, 1]]"
      ]
    },
    {
      "cell_type": "code",
      "metadata": {
        "id": "9sqdPwNpnD9t",
        "colab_type": "code",
        "outputId": "1afc3b3c-a491-441c-a896-6c1c2375ee3c",
        "colab": {
          "base_uri": "https://localhost:8080/",
          "height": 51
        }
      },
      "source": [
        "m = np.array([[1, 4],\n",
        "              [1, 1]])\n",
        "w, v = np.linalg.eig(m)\n",
        "print(w, v)"
      ],
      "execution_count": 0,
      "outputs": [
        {
          "output_type": "stream",
          "text": [
            "[ 3. -1.] [[ 0.89442719 -0.89442719]\n",
            " [ 0.4472136   0.4472136 ]]\n"
          ],
          "name": "stdout"
        }
      ]
    }
  ]
}