{
  "nbformat": 4,
  "nbformat_minor": 0,
  "metadata": {
    "colab": {
      "name": "HW_MDS_02.ipynb",
      "provenance": [],
      "include_colab_link": true
    },
    "kernelspec": {
      "name": "python3",
      "display_name": "Python 3"
    }
  },
  "cells": [
    {
      "cell_type": "markdown",
      "metadata": {
        "id": "view-in-github",
        "colab_type": "text"
      },
      "source": [
        "<a href=\"https://colab.research.google.com/github/Natalya7oct/Feature-selection/blob/master/HW_MDS_02.ipynb\" target=\"_parent\"><img src=\"https://colab.research.google.com/assets/colab-badge.svg\" alt=\"Open In Colab\"/></a>"
      ]
    },
    {
      "cell_type": "markdown",
      "metadata": {
        "id": "-YKWNA_T2ogz",
        "colab_type": "text"
      },
      "source": [
        "Задание 1:\n",
        "Придумайте матрицы, которые обладают следующими свойствами:\n",
        "\n",
        "a) диагональная, ортогональная, но не единичная(!):\n",
        "\n",
        "b) верхнетреугольная, ортогональная:\n",
        "\n",
        "c) нижнетреугольная, ортогональная:\n",
        "\n",
        "d) матрица, у которой определитель = 1, и все элементы не равны 0:\n",
        "\n",
        "e) матрица (3x3), у которой определитель = 1:\n",
        "\n",
        "P.S. Во всех пунктах ответом должна быть ненулевая матрица размерности не менее 2!"
      ]
    },
    {
      "cell_type": "code",
      "metadata": {
        "id": "nzFWQT9g8ZPn",
        "colab_type": "code",
        "colab": {}
      },
      "source": [
        "import numpy as np\n"
      ],
      "execution_count": 0,
      "outputs": []
    },
    {
      "cell_type": "code",
      "metadata": {
        "id": "DNtUOclH2sJP",
        "colab_type": "code",
        "colab": {
          "base_uri": "https://localhost:8080/",
          "height": 85
        },
        "outputId": "35c4ed2b-caa1-40df-8ec1-0be29bda057b"
      },
      "source": [
        "m_a = np.array([[-1, 0],\n",
        "              [0, -1]])\n",
        "print(m_a)\n",
        "# проверка\n",
        "print(m_a.dot(m_a.T))"
      ],
      "execution_count": 8,
      "outputs": [
        {
          "output_type": "stream",
          "text": [
            "[[-1  0]\n",
            " [ 0 -1]]\n",
            "[[1 0]\n",
            " [0 1]]\n"
          ],
          "name": "stdout"
        }
      ]
    },
    {
      "cell_type": "code",
      "metadata": {
        "id": "JSTkBGfwADKv",
        "colab_type": "code",
        "colab": {
          "base_uri": "https://localhost:8080/",
          "height": 119
        },
        "outputId": "a9fce20c-0a9b-42d3-ab13-c15e7cb3c228"
      },
      "source": [
        "m_b = np.array([[1, 0, 0],\n",
        "              [0, 1, 0],\n",
        "              [0, 0, 1]])\n",
        "print(m_b)\n",
        "# проверка\n",
        "print(m_b.dot(m_b.T))"
      ],
      "execution_count": 15,
      "outputs": [
        {
          "output_type": "stream",
          "text": [
            "[[1 0 0]\n",
            " [0 1 0]\n",
            " [0 0 1]]\n",
            "[[1 0 0]\n",
            " [0 1 0]\n",
            " [0 0 1]]\n"
          ],
          "name": "stdout"
        }
      ]
    },
    {
      "cell_type": "code",
      "metadata": {
        "id": "8yasEFOYATKe",
        "colab_type": "code",
        "colab": {
          "base_uri": "https://localhost:8080/",
          "height": 119
        },
        "outputId": "6b82b5ef-62a9-4b6c-8a70-a91c045c0331"
      },
      "source": [
        "m_c = np.array([[-1, 0, 0],\n",
        "              [0, -1, 0],\n",
        "              [0, 0, -1]])\n",
        "print(m_c)\n",
        "# проверка\n",
        "print(m_c.dot(m_c.T))"
      ],
      "execution_count": 14,
      "outputs": [
        {
          "output_type": "stream",
          "text": [
            "[[-1  0  0]\n",
            " [ 0 -1  0]\n",
            " [ 0  0 -1]]\n",
            "[[1 0 0]\n",
            " [0 1 0]\n",
            " [0 0 1]]\n"
          ],
          "name": "stdout"
        }
      ]
    },
    {
      "cell_type": "code",
      "metadata": {
        "id": "gy91lIwMBOQI",
        "colab_type": "code",
        "colab": {
          "base_uri": "https://localhost:8080/",
          "height": 68
        },
        "outputId": "732f05ac-c2ca-44fd-d62b-58e1b916966a"
      },
      "source": [
        "m_d = np.array([[1, 1],\n",
        "              [1, 2]])\n",
        "print(m_d)\n",
        "# проверка\n",
        "print(np.linalg.det(m_d))"
      ],
      "execution_count": 13,
      "outputs": [
        {
          "output_type": "stream",
          "text": [
            "[[1 1]\n",
            " [1 2]]\n",
            "1.0\n"
          ],
          "name": "stdout"
        }
      ]
    },
    {
      "cell_type": "code",
      "metadata": {
        "id": "MLhrW4SUDA_5",
        "colab_type": "code",
        "colab": {
          "base_uri": "https://localhost:8080/",
          "height": 85
        },
        "outputId": "0f14a409-1bda-4bf2-e3d2-95c596af5908"
      },
      "source": [
        "m_e = np.array([[1, 0, 0],\n",
        "              [0, 1, 0],\n",
        "              [0, 0, 1]])\n",
        "print(m_e)\n",
        "# проверка\n",
        "print(np.linalg.det(m_e))"
      ],
      "execution_count": 16,
      "outputs": [
        {
          "output_type": "stream",
          "text": [
            "[[1 0 0]\n",
            " [0 1 0]\n",
            " [0 0 1]]\n",
            "1.0\n"
          ],
          "name": "stdout"
        }
      ]
    },
    {
      "cell_type": "markdown",
      "metadata": {
        "id": "e0OvmbSQDSj-",
        "colab_type": "text"
      },
      "source": [
        "Задание 2:\n",
        "Найдите собственные значения и собственные вектора матриц (необходимо решение на numpy и честное решение на бумаге:)"
      ]
    },
    {
      "cell_type": "code",
      "metadata": {
        "id": "Apd6HVX8DTmk",
        "colab_type": "code",
        "colab": {
          "base_uri": "https://localhost:8080/",
          "height": 51
        },
        "outputId": "ebfa7656-3d73-4165-a1a7-769ad9f5dbf3"
      },
      "source": [
        "m_2a = np.array([[2, 2],\n",
        "              [1, 3]])\n",
        "w, v = np.linalg.eig(m_2a)\n",
        "print(w, v)"
      ],
      "execution_count": 21,
      "outputs": [
        {
          "output_type": "stream",
          "text": [
            "[1. 4.] [[-0.89442719 -0.70710678]\n",
            " [ 0.4472136  -0.70710678]]\n"
          ],
          "name": "stdout"
        }
      ]
    },
    {
      "cell_type": "code",
      "metadata": {
        "id": "FY2L1sKbLP5k",
        "colab_type": "code",
        "colab": {
          "base_uri": "https://localhost:8080/",
          "height": 68
        },
        "outputId": "51c535f6-9cc2-4ebf-9d75-9722e5543a48"
      },
      "source": [
        "m_2b = np.array([[4, 1, -1],\n",
        "              [1, 4, -1],\n",
        "              [-1, -1, 4]])\n",
        "w, v = np.linalg.eig(m_2b)\n",
        "print(w, v)"
      ],
      "execution_count": 22,
      "outputs": [
        {
          "output_type": "stream",
          "text": [
            "[6. 3. 3.] [[-0.57735027 -0.81649658  0.15430335]\n",
            " [-0.57735027  0.40824829  0.6172134 ]\n",
            " [ 0.57735027 -0.40824829  0.77151675]]\n"
          ],
          "name": "stdout"
        }
      ]
    }
  ]
}