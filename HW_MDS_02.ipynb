{
  "nbformat": 4,
  "nbformat_minor": 0,
  "metadata": {
    "colab": {
      "name": "HW_MDS_02.ipynb",
      "provenance": [],
      "include_colab_link": true
    },
    "kernelspec": {
      "name": "python3",
      "display_name": "Python 3"
    }
  },
  "cells": [
    {
      "cell_type": "markdown",
      "metadata": {
        "id": "view-in-github",
        "colab_type": "text"
      },
      "source": [
        "<a href=\"https://colab.research.google.com/github/Natalya7oct/Feature-selection/blob/master/HW_MDS_02.ipynb\" target=\"_parent\"><img src=\"https://colab.research.google.com/assets/colab-badge.svg\" alt=\"Open In Colab\"/></a>"
      ]
    },
    {
      "cell_type": "markdown",
      "metadata": {
        "id": "-YKWNA_T2ogz",
        "colab_type": "text"
      },
      "source": [
        "Задание 1:\n",
        "Придумайте матрицы, которые обладают следующими свойствами:\n",
        "\n",
        "a) диагональная, ортогональная, но не единичная(!):\n",
        "\n",
        "b) верхнетреугольная, ортогональная:\n",
        "\n",
        "c) нижнетреугольная, ортогональная:\n",
        "\n",
        "d) матрица, у которой определитель = 1, и все элементы не равны 0:\n",
        "\n",
        "e) матрица (3x3), у которой определитель = 1:\n",
        "\n",
        "P.S. Во всех пунктах ответом должна быть ненулевая матрица размерности не менее 2!"
      ]
    },
    {
      "cell_type": "code",
      "metadata": {
        "id": "nzFWQT9g8ZPn",
        "colab_type": "code",
        "colab": {}
      },
      "source": [
        "import numpy as np"
      ],
      "execution_count": 0,
      "outputs": []
    },
    {
      "cell_type": "code",
      "metadata": {
        "id": "DNtUOclH2sJP",
        "colab_type": "code",
        "outputId": "35c4ed2b-caa1-40df-8ec1-0be29bda057b",
        "colab": {
          "base_uri": "https://localhost:8080/",
          "height": 85
        }
      },
      "source": [
        "m_a = np.array([[-1, 0],\n",
        "              [0, -1]])\n",
        "print(m_a)\n",
        "# проверка\n",
        "print(m_a.dot(m_a.T))"
      ],
      "execution_count": 0,
      "outputs": [
        {
          "output_type": "stream",
          "text": [
            "[[-1  0]\n",
            " [ 0 -1]]\n",
            "[[1 0]\n",
            " [0 1]]\n"
          ],
          "name": "stdout"
        }
      ]
    },
    {
      "cell_type": "code",
      "metadata": {
        "id": "JSTkBGfwADKv",
        "colab_type": "code",
        "outputId": "a9fce20c-0a9b-42d3-ab13-c15e7cb3c228",
        "colab": {
          "base_uri": "https://localhost:8080/",
          "height": 119
        }
      },
      "source": [
        "m_b = np.array([[1, 0, 0],\n",
        "              [0, 1, 0],\n",
        "              [0, 0, 1]])\n",
        "print(m_b)\n",
        "# проверка\n",
        "print(m_b.dot(m_b.T))"
      ],
      "execution_count": 0,
      "outputs": [
        {
          "output_type": "stream",
          "text": [
            "[[1 0 0]\n",
            " [0 1 0]\n",
            " [0 0 1]]\n",
            "[[1 0 0]\n",
            " [0 1 0]\n",
            " [0 0 1]]\n"
          ],
          "name": "stdout"
        }
      ]
    },
    {
      "cell_type": "code",
      "metadata": {
        "id": "8yasEFOYATKe",
        "colab_type": "code",
        "outputId": "6b82b5ef-62a9-4b6c-8a70-a91c045c0331",
        "colab": {
          "base_uri": "https://localhost:8080/",
          "height": 119
        }
      },
      "source": [
        "m_c = np.array([[-1, 0, 0],\n",
        "              [0, -1, 0],\n",
        "              [0, 0, -1]])\n",
        "print(m_c)\n",
        "# проверка\n",
        "print(m_c.dot(m_c.T))"
      ],
      "execution_count": 0,
      "outputs": [
        {
          "output_type": "stream",
          "text": [
            "[[-1  0  0]\n",
            " [ 0 -1  0]\n",
            " [ 0  0 -1]]\n",
            "[[1 0 0]\n",
            " [0 1 0]\n",
            " [0 0 1]]\n"
          ],
          "name": "stdout"
        }
      ]
    },
    {
      "cell_type": "code",
      "metadata": {
        "id": "gy91lIwMBOQI",
        "colab_type": "code",
        "outputId": "732f05ac-c2ca-44fd-d62b-58e1b916966a",
        "colab": {
          "base_uri": "https://localhost:8080/",
          "height": 68
        }
      },
      "source": [
        "m_d = np.array([[1, 1],\n",
        "              [1, 2]])\n",
        "print(m_d)\n",
        "# проверка\n",
        "print(np.linalg.det(m_d))"
      ],
      "execution_count": 0,
      "outputs": [
        {
          "output_type": "stream",
          "text": [
            "[[1 1]\n",
            " [1 2]]\n",
            "1.0\n"
          ],
          "name": "stdout"
        }
      ]
    },
    {
      "cell_type": "code",
      "metadata": {
        "id": "MLhrW4SUDA_5",
        "colab_type": "code",
        "outputId": "0f14a409-1bda-4bf2-e3d2-95c596af5908",
        "colab": {
          "base_uri": "https://localhost:8080/",
          "height": 85
        }
      },
      "source": [
        "m_e = np.array([[1, 0, 0],\n",
        "              [0, 1, 0],\n",
        "              [0, 0, 1]])\n",
        "print(m_e)\n",
        "# проверка\n",
        "print(np.linalg.det(m_e))"
      ],
      "execution_count": 0,
      "outputs": [
        {
          "output_type": "stream",
          "text": [
            "[[1 0 0]\n",
            " [0 1 0]\n",
            " [0 0 1]]\n",
            "1.0\n"
          ],
          "name": "stdout"
        }
      ]
    },
    {
      "cell_type": "markdown",
      "metadata": {
        "id": "e0OvmbSQDSj-",
        "colab_type": "text"
      },
      "source": [
        "Задание 2:\n",
        "Найдите собственные значения и собственные вектора матриц (необходимо решение на numpy и честное решение на бумаге:)"
      ]
    },
    {
      "cell_type": "code",
      "metadata": {
        "id": "Apd6HVX8DTmk",
        "colab_type": "code",
        "outputId": "ebfa7656-3d73-4165-a1a7-769ad9f5dbf3",
        "colab": {
          "base_uri": "https://localhost:8080/",
          "height": 51
        }
      },
      "source": [
        "m_2a = np.array([[2, 2],\n",
        "              [1, 3]])\n",
        "w, v = np.linalg.eig(m_2a)\n",
        "print(w, v)"
      ],
      "execution_count": 0,
      "outputs": [
        {
          "output_type": "stream",
          "text": [
            "[1. 4.] [[-0.89442719 -0.70710678]\n",
            " [ 0.4472136  -0.70710678]]\n"
          ],
          "name": "stdout"
        }
      ]
    },
    {
      "cell_type": "code",
      "metadata": {
        "id": "FY2L1sKbLP5k",
        "colab_type": "code",
        "outputId": "51c535f6-9cc2-4ebf-9d75-9722e5543a48",
        "colab": {
          "base_uri": "https://localhost:8080/",
          "height": 68
        }
      },
      "source": [
        "m_2b = np.array([[4, 1, -1],\n",
        "              [1, 4, -1],\n",
        "              [-1, -1, 4]])\n",
        "w, v = np.linalg.eig(m_2b)\n",
        "print(w, v)"
      ],
      "execution_count": 0,
      "outputs": [
        {
          "output_type": "stream",
          "text": [
            "[6. 3. 3.] [[-0.57735027 -0.81649658  0.15430335]\n",
            " [-0.57735027  0.40824829  0.6172134 ]\n",
            " [ 0.57735027 -0.40824829  0.77151675]]\n"
          ],
          "name": "stdout"
        }
      ]
    },
    {
      "cell_type": "markdown",
      "metadata": {
        "id": "SIm5tENWBtUu",
        "colab_type": "text"
      },
      "source": [
        "Задание 3:\n",
        "Найдите спектральное разложение матрицы (честное решение на бумаге и на numpy)"
      ]
    },
    {
      "cell_type": "code",
      "metadata": {
        "id": "XPqQiZY1BuS4",
        "colab_type": "code",
        "colab": {
          "base_uri": "https://localhost:8080/",
          "height": 51
        },
        "outputId": "5612ebba-115c-4de3-ce9a-dd9cebc015ac"
      },
      "source": [
        "m_3 = np.array([[1, 2],\n",
        "              [2,3]])\n",
        "print(m_3)"
      ],
      "execution_count": 7,
      "outputs": [
        {
          "output_type": "stream",
          "text": [
            "[[1 2]\n",
            " [2 3]]\n"
          ],
          "name": "stdout"
        }
      ]
    },
    {
      "cell_type": "code",
      "metadata": {
        "id": "6j_kXrEVC2Br",
        "colab_type": "code",
        "colab": {
          "base_uri": "https://localhost:8080/",
          "height": 119
        },
        "outputId": "94d93dc5-d6b3-4cb5-99ae-1fc6d45991a5"
      },
      "source": [
        "a3, U3 = np.linalg.eig(m_3)\n",
        "print('Eigenvalues:')\n",
        "print(a)\n",
        "print('\\nEigenvectors:')\n",
        "print(U)"
      ],
      "execution_count": 10,
      "outputs": [
        {
          "output_type": "stream",
          "text": [
            "Eigenvalues:\n",
            "[-0.23606798  4.23606798]\n",
            "\n",
            "Eigenvectors:\n",
            "[[-0.85065081 -0.52573111]\n",
            " [ 0.52573111 -0.85065081]]\n"
          ],
          "name": "stdout"
        }
      ]
    },
    {
      "cell_type": "code",
      "metadata": {
        "id": "pz-Vh3B-l2K4",
        "colab_type": "code",
        "colab": {}
      },
      "source": [
        "D=np.diag(a3)"
      ],
      "execution_count": 0,
      "outputs": []
    },
    {
      "cell_type": "code",
      "metadata": {
        "id": "bNrhDWfCl9-t",
        "colab_type": "code",
        "colab": {
          "base_uri": "https://localhost:8080/",
          "height": 51
        },
        "outputId": "f244b588-39d8-4e6c-998e-23684d91bd69"
      },
      "source": [
        "U.dot(D).dot(U.T)"
      ],
      "execution_count": 15,
      "outputs": [
        {
          "output_type": "execute_result",
          "data": {
            "text/plain": [
              "array([[1., 2.],\n",
              "       [2., 3.]])"
            ]
          },
          "metadata": {
            "tags": []
          },
          "execution_count": 15
        }
      ]
    },
    {
      "cell_type": "markdown",
      "metadata": {
        "id": "ohg8MkjSpqtx",
        "colab_type": "text"
      },
      "source": [
        "Задание 4:\n",
        "Для примера из лекции постройте график зависимости oob_score RandomForestClassifier от количества компонент при сжатии с помощью SVD"
      ]
    },
    {
      "cell_type": "code",
      "metadata": {
        "id": "i2LGAr_5prcK",
        "colab_type": "code",
        "colab": {}
      },
      "source": [
        "import numpy as np\n",
        "import pylab as pl\n",
        "import warnings\n",
        "\n",
        "from matplotlib import pyplot as plt\n",
        "from scipy import linalg\n",
        "from sklearn.datasets import load_digits\n",
        "from sklearn.decomposition import TruncatedSVD\n",
        "from sklearn.ensemble import RandomForestClassifier\n",
        "warnings.filterwarnings(\"ignore\")"
      ],
      "execution_count": 0,
      "outputs": []
    },
    {
      "cell_type": "code",
      "metadata": {
        "id": "0x7xQKIspxwV",
        "colab_type": "code",
        "colab": {}
      },
      "source": [
        "float_formatter = lambda x: \"%.2f\" % x\n",
        "np.set_printoptions(formatter={'float_kind':float_formatter})"
      ],
      "execution_count": 0,
      "outputs": []
    },
    {
      "cell_type": "code",
      "metadata": {
        "id": "VdhIqeJnp1pA",
        "colab_type": "code",
        "colab": {}
      },
      "source": [
        "X, y = load_digits(return_X_y=True)"
      ],
      "execution_count": 0,
      "outputs": []
    },
    {
      "cell_type": "code",
      "metadata": {
        "id": "2z-PyXmWp4ZP",
        "colab_type": "code",
        "colab": {
          "base_uri": "https://localhost:8080/",
          "height": 51
        },
        "outputId": "586079c0-5bd0-4831-90c2-9377c7e82bca"
      },
      "source": [
        "print(X.shape)\n",
        "print(y.shape)"
      ],
      "execution_count": 19,
      "outputs": [
        {
          "output_type": "stream",
          "text": [
            "(1797, 64)\n",
            "(1797,)\n"
          ],
          "name": "stdout"
        }
      ]
    },
    {
      "cell_type": "code",
      "metadata": {
        "id": "uRgMh5jDp5ix",
        "colab_type": "code",
        "colab": {
          "base_uri": "https://localhost:8080/",
          "height": 275
        },
        "outputId": "25ac104a-a0a5-41e8-cf29-70b905c9abf5"
      },
      "source": [
        "image = X[0]\n",
        "image = image.reshape((8, 8))\n",
        "plt.matshow(image, cmap = 'gray')\n",
        "plt.show()"
      ],
      "execution_count": 20,
      "outputs": [
        {
          "output_type": "display_data",
          "data": {
            "image/png": "[encoded data removed]",
            "text/plain": [
              "<Figure size 288x288 with 1 Axes>"
            ]
          },
          "metadata": {
            "tags": []
          }
        }
      ]
    },
    {
      "cell_type": "code",
      "metadata": {
        "id": "Of8kMbW3q18l",
        "colab_type": "code",
        "colab": {}
      },
      "source": [
        "def func_svd(i):\n",
        "  svd = TruncatedSVD(n_components=i)\n",
        "  X_reduced = svd.fit_transform(X)\n",
        "  rf_reduced = RandomForestClassifier(oob_score=True)\n",
        "  rf_reduced.fit(X_reduced, y)\n",
        "  return rf_reduced.oob_score_\n"
      ],
      "execution_count": 0,
      "outputs": []
    },
    {
      "cell_type": "code",
      "metadata": {
        "id": "sKCvgbQjrZbg",
        "colab_type": "code",
        "colab": {}
      },
      "source": [
        "oob_scores=[]"
      ],
      "execution_count": 0,
      "outputs": []
    },
    {
      "cell_type": "code",
      "metadata": {
        "id": "EIcmUCunrUUL",
        "colab_type": "code",
        "colab": {}
      },
      "source": [
        "new=0\n",
        "for i in range(1, 9):\n",
        "  oob_scores.append(func_svd(i))"
      ],
      "execution_count": 0,
      "outputs": []
    },
    {
      "cell_type": "code",
      "metadata": {
        "id": "FkTMsuJ5riFV",
        "colab_type": "code",
        "colab": {
          "base_uri": "https://localhost:8080/",
          "height": 153
        },
        "outputId": "5be5f911-a817-4e9e-bfff-dcf64da855ca"
      },
      "source": [
        "oob_scores"
      ],
      "execution_count": 48,
      "outputs": [
        {
          "output_type": "execute_result",
          "data": {
            "text/plain": [
              "[0.11853088480801335,\n",
              " 0.36505286588759045,\n",
              " 0.6176961602671118,\n",
              " 0.7378964941569283,\n",
              " 0.7941012799109627,\n",
              " 0.8414023372287145,\n",
              " 0.8458542014468559,\n",
              " 0.857540345019477]"
            ]
          },
          "metadata": {
            "tags": []
          },
          "execution_count": 48
        }
      ]
    },
    {
      "cell_type": "code",
      "metadata": {
        "id": "5LfWeNGyt2jh",
        "colab_type": "code",
        "colab": {
          "base_uri": "https://localhost:8080/",
          "height": 280
        },
        "outputId": "53aac55f-914b-4815-b952-62111223d10d"
      },
      "source": [
        "n_components = np.linspace(1, 9, 8)\n",
        "oob_score = [ oob_scores [i] for i in range(len(n_components))]\n",
        "\n",
        "plt.plot(n_components, oob_score)\n",
        "plt.ylabel('oob_score')\n",
        "plt.xlabel('n_components')\n",
        "\n",
        "plt.show()"
      ],
      "execution_count": 51,
      "outputs": [
        {
          "output_type": "display_data",
          "data": {
            "image/png": "[encoded data removed]",
            "text/plain": [
              "<Figure size 432x288 with 1 Axes>"
            ]
          },
          "metadata": {
            "tags": []
          }
        }
      ]
    }
  ]
}