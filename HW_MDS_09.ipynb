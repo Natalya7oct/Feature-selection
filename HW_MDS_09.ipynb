{
  "nbformat": 4,
  "nbformat_minor": 0,
  "metadata": {
    "colab": {
      "name": "HW_MDS_09.ipynb",
      "provenance": [],
      "include_colab_link": true
    },
    "kernelspec": {
      "name": "python3",
      "display_name": "Python 3"
    }
  },
  "cells": [
    {
      "cell_type": "markdown",
      "metadata": {
        "id": "view-in-github",
        "colab_type": "text"
      },
      "source": [
        "<a href=\"https://colab.research.google.com/github/Natalya7oct/Feature-selection/blob/master/HW_MDS_09.ipynb\" target=\"_parent\"><img src=\"https://colab.research.google.com/assets/colab-badge.svg\" alt=\"Open In Colab\"/></a>"
      ]
    },
    {
      "cell_type": "markdown",
      "metadata": {
        "id": "cjm6YRcLk56b",
        "colab_type": "text"
      },
      "source": [
        "\n",
        "\n",
        "Центральная предельная теорема\n",
        "В этом задании нужно убедиться, что ЦПТ действительно работает\n"
      ]
    },
    {
      "cell_type": "code",
      "metadata": {
        "id": "IkCb6aPnk8lQ",
        "colab_type": "code",
        "colab": {}
      },
      "source": [
        "\n",
        "import pandas as pd\n",
        "import numpy as np\n",
        "import matplotlib.pyplot as plt\n",
        "import scipy.stats as sts\n",
        "%matplotlib inline"
      ],
      "execution_count": 0,
      "outputs": []
    },
    {
      "cell_type": "markdown",
      "metadata": {
        "id": "arbl9GrnlQET",
        "colab_type": "text"
      },
      "source": [
        "Создайте случайную величину из любого выбранного вами распределения, для разных значений n сгенерируйте 1000 выборок размера n и постройте гистрограммы средних этих выборок.\n",
        "\n"
      ]
    },
    {
      "cell_type": "code",
      "metadata": {
        "id": "PcVEKqqGlRmZ",
        "colab_type": "code",
        "colab": {}
      },
      "source": [
        "rv = sts.poisson(5)\n",
        "sample = rv.rvs(size=1000)"
      ],
      "execution_count": 0,
      "outputs": []
    },
    {
      "cell_type": "code",
      "metadata": {
        "id": "dGT-WvuCP-z7",
        "colab_type": "code",
        "outputId": "cdb9d966-6a83-4281-cd1f-ef9bef67a3f7",
        "colab": {
          "base_uri": "https://localhost:8080/",
          "height": 35
        }
      },
      "source": [
        "len(sample)"
      ],
      "execution_count": 0,
      "outputs": [
        {
          "output_type": "execute_result",
          "data": {
            "text/plain": [
              "1000"
            ]
          },
          "metadata": {
            "tags": []
          },
          "execution_count": 7
        }
      ]
    },
    {
      "cell_type": "code",
      "metadata": {
        "id": "19bnd50hzBE5",
        "colab_type": "code",
        "outputId": "85868137-1d44-4f0a-b6b4-6ed41480d117",
        "colab": {
          "base_uri": "https://localhost:8080/",
          "height": 279
        }
      },
      "source": [
        "x = np.linspace(0,2,100)\n",
        "#pdf = rv.pdf(x) - не работает почему-то\n",
        "plt.hist(sample, density=True, bins=30, label='sample histogram')\n",
        "#plt.plot(x, pdf, label='theoretical pdf', alpha=0.5)\n",
        "plt.legend()\n",
        "plt.ylabel('fraction of samples, $f(x)$')\n",
        "plt.xlabel('$x$')\n",
        "plt.show()"
      ],
      "execution_count": 0,
      "outputs": [
        {
          "output_type": "display_data",
          "data": {
            "image/png": "[encoded data removed]",
            "text/plain": [
              "<Figure size 432x288 with 1 Axes>"
            ]
          },
          "metadata": {
            "tags": []
          }
        }
      ]
    },
    {
      "cell_type": "code",
      "metadata": {
        "id": "XTElCeaEQgfB",
        "colab_type": "code",
        "colab": {}
      },
      "source": [
        "#параметры запуска: размеры выборок и количество повторов генерации\n",
        "n1 = 2\n",
        "samples_count = 1000\n",
        "#массивы для сохранения средних по выборкам\n",
        "a1 = np.array([])\n",
        "\n",
        "for number in range(samples_count):\n",
        "    # на каждом цикле генерируем выборки разных размеров\n",
        "    sample1 = rv.rvs(size=n1)\n",
        "    # считаем среднее по каждой выборке и добавляем в массив средних\n",
        "    a1 = np.append(a1, sample1.mean())"
      ],
      "execution_count": 0,
      "outputs": []
    },
    {
      "cell_type": "code",
      "metadata": {
        "id": "iV7V_DDGRVRw",
        "colab_type": "code",
        "outputId": "7ecc8ed1-c398-4eb7-886b-f1cedace64cc",
        "colab": {
          "base_uri": "https://localhost:8080/",
          "height": 297
        }
      },
      "source": [
        "#строим графики\n",
        "#подписи для графиков\n",
        "label_1 = 'sample of ' + str(n1) + ' histogram'\n",
        "plt.hist(a1, density=True, label=label_1)\n",
        "\n",
        "plt.legend()\n",
        "plt.ylabel('samples means')\n",
        "plt.xlabel('$x$')"
      ],
      "execution_count": 0,
      "outputs": [
        {
          "output_type": "execute_result",
          "data": {
            "text/plain": [
              "Text(0.5, 0, '$x$')"
            ]
          },
          "metadata": {
            "tags": []
          },
          "execution_count": 9
        },
        {
          "output_type": "display_data",
          "data": {
            "image/png": "[encoded data removed]",
            "text/plain": [
              "<Figure size 432x288 with 1 Axes>"
            ]
          },
          "metadata": {
            "tags": []
          }
        }
      ]
    }
  ]
}